{
 "cells": [
  {
   "cell_type": "code",
   "execution_count": 212,
   "id": "de52ba21",
   "metadata": {},
   "outputs": [],
   "source": [
    "import numpy as np\n",
    "import pandas as pd\n",
    "from sklearn.svm import SVC\n",
    "from sklearn.metrics import accuracy_score\n",
    "from sklearn.model_selection import train_test_split\n",
    "from sklearn.model_selection import cross_val_score,cross_val_predict\n",
    "\n",
    "\n",
    "\n",
    "def train_svm_and_predict(X, y, test_features):\n",
    "    \"\"\"\n",
    "    train_features: np.array, (num_elements_train x num_features) - train data description, the same features and the same order as in train data\n",
    "    train_target: np.array, (num_elements_train) - train data target\n",
    "    test_features: np.array, (num_elements_test x num_features) -- some test data, features are in the same order as train features\n",
    "\n",
    "    return: np.array, (num_elements_test) - test data predicted target, 1d array\n",
    "    \"\"\"\n",
    "    scr_c=[]\n",
    "    for i in np.logspace(-1,4,80):\n",
    "        clf = SVC(C=i, kernel='rbf', class_weight='balanced')    \n",
    "        scr_c.append((cross_val_score(clf, X, y, cv=5).mean(), i))\n",
    "        if len(scr_c)>5 and min(scr_c[-5:-1])> scr_c[-1]: break\n",
    "    model = SVC(C=best_c_rbf, kernel='rbf', class_weight='balanced')\n",
    "    model.fit(X, y)\n",
    "            \n",
    "    \n",
    "    return model.predict(test_features)\n"
   ]
  },
  {
   "cell_type": "code",
   "execution_count": 213,
   "id": "c3b45469",
   "metadata": {},
   "outputs": [],
   "source": [
    "import warnings\n",
    "warnings.filterwarnings('ignore', 'Solver terminated early.*')"
   ]
  },
  {
   "cell_type": "code",
   "execution_count": 215,
   "id": "9cd7cb5c",
   "metadata": {},
   "outputs": [
    {
     "name": "stdout",
     "output_type": "stream",
     "text": [
      "Wall time: 2.6 s\n"
     ]
    },
    {
     "data": {
      "text/plain": [
       "0.9"
      ]
     },
     "execution_count": 215,
     "metadata": {},
     "output_type": "execute_result"
    }
   ],
   "source": [
    "%%time\n",
    "accuracy_score(train_svm_and_predict(X, y, X_test_orig),y_test_orig)"
   ]
  },
  {
   "cell_type": "code",
   "execution_count": 47,
   "id": "3c4d5d0f",
   "metadata": {},
   "outputs": [],
   "source": [
    "import numpy as np\n",
    "import pandas as pd\n",
    "from sklearn.svm import SVC\n",
    "from sklearn.metrics import accuracy_score\n",
    "from sklearn.model_selection import train_test_split\n",
    "from sklearn.model_selection import cross_val_score,cross_val_predict\n",
    "\n",
    "import matplotlib.pyplot as plt"
   ]
  },
  {
   "cell_type": "code",
   "execution_count": 2,
   "id": "63a3e6d7",
   "metadata": {},
   "outputs": [
    {
     "data": {
      "text/html": [
       "<div>\n",
       "<style scoped>\n",
       "    .dataframe tbody tr th:only-of-type {\n",
       "        vertical-align: middle;\n",
       "    }\n",
       "\n",
       "    .dataframe tbody tr th {\n",
       "        vertical-align: top;\n",
       "    }\n",
       "\n",
       "    .dataframe thead th {\n",
       "        text-align: right;\n",
       "    }\n",
       "</style>\n",
       "<table border=\"1\" class=\"dataframe\">\n",
       "  <thead>\n",
       "    <tr style=\"text-align: right;\">\n",
       "      <th></th>\n",
       "      <th>0</th>\n",
       "      <th>1</th>\n",
       "      <th>2</th>\n",
       "      <th>3</th>\n",
       "      <th>4</th>\n",
       "    </tr>\n",
       "  </thead>\n",
       "  <tbody>\n",
       "    <tr>\n",
       "      <th>0</th>\n",
       "      <td>-1.765369</td>\n",
       "      <td>-0.915621</td>\n",
       "      <td>-1.006202</td>\n",
       "      <td>-0.108473</td>\n",
       "      <td>0.320745</td>\n",
       "    </tr>\n",
       "    <tr>\n",
       "      <th>1</th>\n",
       "      <td>0.483397</td>\n",
       "      <td>-0.490917</td>\n",
       "      <td>-1.660589</td>\n",
       "      <td>-0.259516</td>\n",
       "      <td>-1.188535</td>\n",
       "    </tr>\n",
       "    <tr>\n",
       "      <th>2</th>\n",
       "      <td>0.728563</td>\n",
       "      <td>1.441221</td>\n",
       "      <td>-0.829488</td>\n",
       "      <td>0.416509</td>\n",
       "      <td>-1.139912</td>\n",
       "    </tr>\n",
       "    <tr>\n",
       "      <th>3</th>\n",
       "      <td>0.017407</td>\n",
       "      <td>-0.856590</td>\n",
       "      <td>0.012511</td>\n",
       "      <td>-0.543946</td>\n",
       "      <td>-0.537570</td>\n",
       "    </tr>\n",
       "    <tr>\n",
       "      <th>4</th>\n",
       "      <td>-2.624110</td>\n",
       "      <td>-0.436336</td>\n",
       "      <td>0.757835</td>\n",
       "      <td>0.878373</td>\n",
       "      <td>1.155263</td>\n",
       "    </tr>\n",
       "  </tbody>\n",
       "</table>\n",
       "</div>"
      ],
      "text/plain": [
       "          0         1         2         3         4\n",
       "0 -1.765369 -0.915621 -1.006202 -0.108473  0.320745\n",
       "1  0.483397 -0.490917 -1.660589 -0.259516 -1.188535\n",
       "2  0.728563  1.441221 -0.829488  0.416509 -1.139912\n",
       "3  0.017407 -0.856590  0.012511 -0.543946 -0.537570\n",
       "4 -2.624110 -0.436336  0.757835  0.878373  1.155263"
      ]
     },
     "execution_count": 2,
     "metadata": {},
     "output_type": "execute_result"
    }
   ],
   "source": [
    "X = pd.read_csv('train_features.csv')\n",
    "y = pd.read_csv('train_target.csv')\n",
    "y = np.reshape(np.array(y),(y.shape[0],))\n",
    "X.head(5)"
   ]
  },
  {
   "cell_type": "code",
   "execution_count": 3,
   "id": "100d625d",
   "metadata": {},
   "outputs": [],
   "source": [
    "X_test_orig = pd.read_csv('test_features.csv')\n",
    "y_test_orig = pd.read_csv('test_target.csv')"
   ]
  },
  {
   "cell_type": "code",
   "execution_count": 169,
   "id": "20defc27",
   "metadata": {},
   "outputs": [],
   "source": [
    "X_train, X_test, y_train, y_test = train_test_split(X, y, test_size=0.3, random_state=12) # 13"
   ]
  },
  {
   "cell_type": "code",
   "execution_count": 170,
   "id": "5b6a03ea",
   "metadata": {},
   "outputs": [
    {
     "data": {
      "text/plain": [
       "(0.8875, 0.9083333333333333, 0.9)"
      ]
     },
     "execution_count": 170,
     "metadata": {},
     "output_type": "execute_result"
    }
   ],
   "source": [
    "# kernel {‘linear’, ‘poly’, ‘rbf’, ‘sigmoid’, ‘precomputed’}, default=’rbf’\n",
    "# degree int, default=3\n",
    "model = SVC(C=1, kernel='rbf', class_weight='balanced')\n",
    "model.fit(X,y)\n",
    "accuracy_score(model.predict(X_train), y_train), accuracy_score(model.predict(X_test), y_test),model.score(X_test_orig,y_test_orig)"
   ]
  },
  {
   "cell_type": "code",
   "execution_count": 171,
   "id": "6a886b4e",
   "metadata": {},
   "outputs": [
    {
     "data": {
      "text/plain": [
       "(0.9178571428571428, 0.9291666666666667, 0.9)"
      ]
     },
     "execution_count": 171,
     "metadata": {},
     "output_type": "execute_result"
    }
   ],
   "source": [
    "# kernel {‘linear’, ‘poly’, ‘rbf’, ‘sigmoid’, ‘precomputed’}, default=’rbf’\n",
    "# degree int, default=3\n",
    "model = SVC(C=max(scr)[1], kernel='rbf', class_weight='balanced')\n",
    "model.fit(X,y)\n",
    "accuracy_score(model.predict(X_train), y_train), accuracy_score(model.predict(X_test), y_test),model.score(X_test_orig,y_test_orig)"
   ]
  },
  {
   "cell_type": "code",
   "execution_count": 172,
   "id": "a238c9a7",
   "metadata": {},
   "outputs": [
    {
     "name": "stdout",
     "output_type": "stream",
     "text": [
      "Wall time: 2.17 s\n"
     ]
    }
   ],
   "source": [
    "%%time\n",
    "best_C, best_kernel = 0, 0\n",
    "scr = []\n",
    "for i in np.logspace(-3,4,60):\n",
    "    clf = SVC(C=i, kernel='rbf', class_weight='balanced').fit(X_train,y_train)\n",
    "    scr.append((clf.score(X_test, y_test),i))"
   ]
  },
  {
   "cell_type": "code",
   "execution_count": 178,
   "id": "b2c7b902",
   "metadata": {},
   "outputs": [
    {
     "data": {
      "text/plain": [
       "4.763938010401341"
      ]
     },
     "execution_count": 178,
     "metadata": {},
     "output_type": "execute_result"
    }
   ],
   "source": [
    "max(scr)[1]"
   ]
  },
  {
   "cell_type": "code",
   "execution_count": 177,
   "id": "0b8b4629",
   "metadata": {},
   "outputs": [
    {
     "data": {
      "text/plain": [
       "(0.9071428571428571, 0.9125, 0.8)"
      ]
     },
     "execution_count": 177,
     "metadata": {},
     "output_type": "execute_result"
    }
   ],
   "source": [
    "model = SVC(C=max(scr)[1], kernel='rbf', class_weight='balanced')\n",
    "model.fit(X,y)\n",
    "accuracy_score(model.predict(X_train), y_train), accuracy_score(model.predict(X_test), y_test),model.score(X_test_orig,y_test_orig)"
   ]
  },
  {
   "cell_type": "code",
   "execution_count": 163,
   "id": "93532130",
   "metadata": {},
   "outputs": [
    {
     "name": "stdout",
     "output_type": "stream",
     "text": [
      "Wall time: 1.8 s\n"
     ]
    },
    {
     "data": {
      "text/plain": [
       "[<matplotlib.lines.Line2D at 0x20bae155130>]"
      ]
     },
     "execution_count": 163,
     "metadata": {},
     "output_type": "execute_result"
    },
    {
     "data": {
      "image/png": "[encoded data removed]",
      "text/plain": [
       "<Figure size 432x288 with 1 Axes>"
      ]
     },
     "metadata": {
      "needs_background": "light"
     },
     "output_type": "display_data"
    }
   ],
   "source": [
    "%%time\n",
    "score=[]\n",
    "for i in np.arange(0,15):\n",
    "    clf = SVC(C=1, kernel='poly',degree=i , class_weight='balanced')\n",
    "    scores = cross_val_score(clf, X,y, cv=5)\n",
    "    score.append((scores.mean(),i))\n",
    "plt.plot([i[1] for i in score],[i[0] for i in score])"
   ]
  },
  {
   "cell_type": "code",
   "execution_count": 166,
   "id": "a5008ee4",
   "metadata": {},
   "outputs": [
    {
     "data": {
      "text/plain": [
       "(0.865, 2)"
      ]
     },
     "execution_count": 166,
     "metadata": {},
     "output_type": "execute_result"
    }
   ],
   "source": [
    "max(score)"
   ]
  },
  {
   "cell_type": "code",
   "execution_count": 167,
   "id": "5b557f69",
   "metadata": {},
   "outputs": [],
   "source": [
    "best_degree = max(score)[1]"
   ]
  },
  {
   "cell_type": "code",
   "execution_count": 168,
   "id": "081f7bff",
   "metadata": {},
   "outputs": [
    {
     "data": {
      "text/plain": [
       "(0.8678571428571429, 0.8583333333333333, 0.8)"
      ]
     },
     "execution_count": 168,
     "metadata": {},
     "output_type": "execute_result"
    }
   ],
   "source": [
    "clf = SVC(C=1, kernel='poly',degree=max(score)[1] , class_weight='balanced')\n",
    "clf.fit(X_train, y_train)\n",
    "clf.score(X_train, y_train),clf.score(X_test, y_test),clf.score(X_test_orig, y_test_orig)"
   ]
  },
  {
   "cell_type": "code",
   "execution_count": 56,
   "id": "05516bca",
   "metadata": {},
   "outputs": [
    {
     "data": {
      "text/plain": [
       "2.7551020408163267"
      ]
     },
     "execution_count": 56,
     "metadata": {},
     "output_type": "execute_result"
    }
   ],
   "source": [
    "best_degree"
   ]
  },
  {
   "cell_type": "code",
   "execution_count": 32,
   "id": "a4fd1c7e",
   "metadata": {},
   "outputs": [
    {
     "name": "stdout",
     "output_type": "stream",
     "text": [
      "Wall time: 19.8 s\n"
     ]
    },
    {
     "data": {
      "text/plain": [
       "[<matplotlib.lines.Line2D at 0x20bad8129a0>]"
      ]
     },
     "execution_count": 32,
     "metadata": {},
     "output_type": "execute_result"
    },
    {
     "data": {
      "image/png": "[encoded data removed]",
      "text/plain": [
       "<Figure size 432x288 with 1 Axes>"
      ]
     },
     "metadata": {
      "needs_background": "light"
     },
     "output_type": "display_data"
    }
   ],
   "source": [
    "%%time\n",
    "scores=[]\n",
    "for i in range(-4,5):\n",
    "    clf = SVC(C=10**i, kernel='poly',degree=best_degree, class_weight='balanced')\n",
    "    scores = cross_val_score(clf, X,y, cv=5)\n",
    "    score.append((scores.mean(),i))\n",
    "best_i = max(score)[1]\n",
    "scr =[]\n",
    "for i in np.linspace(best_i-1,best_i+1,100):\n",
    "    clf = SVC(C=10**i, kernel='poly',degree=best_degree, class_weight='balanced')\n",
    "    scores = cross_val_score(clf, X,y, cv=5)\n",
    "    scr.append((scores.mean(),i))\n",
    "plt.plot([i[1] for i in scr],[i[0] for i in scr])"
   ]
  },
  {
   "cell_type": "code",
   "execution_count": 51,
   "id": "4a49bc79",
   "metadata": {},
   "outputs": [
    {
     "data": {
      "text/plain": [
       "1"
      ]
     },
     "execution_count": 51,
     "metadata": {},
     "output_type": "execute_result"
    }
   ],
   "source": [
    "best_degree"
   ]
  },
  {
   "cell_type": "code",
   "execution_count": 65,
   "id": "95743c60",
   "metadata": {},
   "outputs": [
    {
     "data": {
      "text/plain": [
       "(0.8678571428571429, 0.8666666666666667, 0.8)"
      ]
     },
     "execution_count": 65,
     "metadata": {},
     "output_type": "execute_result"
    }
   ],
   "source": [
    "clf = SVC(C=1, kernel='poly',degree=best_degree, class_weight='balanced')\n",
    "clf.fit(X_train, y_train)\n",
    "clf.score(X_train, y_train),clf.score(X_test, y_test),clf.score(X_test_orig, y_test_orig)"
   ]
  },
  {
   "cell_type": "code",
   "execution_count": 58,
   "id": "24579701",
   "metadata": {},
   "outputs": [
    {
     "data": {
      "text/plain": [
       "0.865"
      ]
     },
     "execution_count": 58,
     "metadata": {},
     "output_type": "execute_result"
    }
   ],
   "source": [
    "accuracy_score(cross_val_predict(clf, X, y, cv=5),y)"
   ]
  },
  {
   "cell_type": "code",
   "execution_count": null,
   "id": "275b3312",
   "metadata": {},
   "outputs": [],
   "source": []
  }
 ],
 "metadata": {
  "kernelspec": {
   "display_name": "Python 3",
   "language": "python",
   "name": "python3"
  },
  "language_info": {
   "codemirror_mode": {
    "name": "ipython",
    "version": 3
   },
   "file_extension": ".py",
   "mimetype": "text/x-python",
   "name": "python",
   "nbconvert_exporter": "python",
   "pygments_lexer": "ipython3",
   "version": "3.8.8"
  }
 },
 "nbformat": 4,
 "nbformat_minor": 5
}
