{
 "cells": [
  {
   "cell_type": "markdown",
   "metadata": {
    "collapsed": true,
    "id": "CzvL6qWk0QUb",
    "pycharm": {
     "name": "#%% md\n"
    }
   },
   "source": [
    "# Курс по машинному обучению,   ВМК МГУ\n",
    "## Градиентный бустинг деревьев"
   ]
  },
  {
   "cell_type": "markdown",
   "metadata": {
    "id": "YluAYJ8b0QUl"
   },
   "source": [
    "### Важно! О формате сдачи\n",
    "\n",
    "* **Практически все выделенные задания из ноутбука оцениваются по системе <font color='red'>кросс-рецензирования</font>. Задания, в котором надо реализовать свой код и послать в систему, выделены здесь и в pdf отдельно**\n",
    "* **В этом ноутбуке есть задание на ML-решение**\n",
    "* **При решении ноутбука используйте данный шаблон. Не нужно удалять текстовые ячейки c разметкой частей ноутбука и формулировками заданий. Добавлять свои ячейки, при необходимости, конечно можно**\n",
    "* **Везде, где в формулровке задания есть какой-либо вопрос (или просьба вывода), необходимо прописать ответ в ячейку (код или markdown).**\n",
    "* **Наличие кода решения обязательно. Письменные ответы на вопросы без сопутствующего кода оцениваются в 0 баллов.**"
   ]
  },
  {
   "cell_type": "markdown",
   "metadata": {
    "id": "9zxVs5xz0QUn"
   },
   "source": [
    "**А также..**\n",
    "\n",
    "Если в ячейке написана фраза \"Вывод\"/\"Ответ на вопрос\" итд, то ожидается ответ в виде текста (можете добавить ячейки с кодом, если считаете это необходимым, но это необязательно). Если в ячейке написано \"Your code here\", то ожидается ответ в виде кода (можете добавить ячейки с кодом, если считаете это необходимым, но это необязательно). Если есть и ячейка с фразой \"Вывод\", и ячейка с фразой \"Your code here\", то в ответе ожидается и код, и текст)"
   ]
  },
  {
   "cell_type": "markdown",
   "metadata": {
    "id": "rxiw5pWf0QUp"
   },
   "source": [
    "__В этом задании вы..:__\n",
    "\n",
    "- Познакомитесь с несколькими новыми библиотеками машинного обучения\n",
    "- Сравните между собой разные реализации градиентных бустингов\n",
    "- Примените все полученные знания для получения лучшего скора на датасете фильмов"
   ]
  },
  {
   "cell_type": "markdown",
   "metadata": {
    "id": "xEqmd7Dd0QUq"
   },
   "source": [
    "\n",
    "\n",
    "\n",
    "## Введение\n",
    "\n",
    "Привет, ребятушки!\n",
    "\n",
    "Сегодня мы с вами будем решать очень важную задачу, а именно оценивать цену поддержанных автомобилей в ряде стран. Делать мы это будем с помощью различных методов градиентного бустинга. Мы с вами узнаем, что в мире существует не только sklearn, и что существуют библиотеки, облегчающие нам задачу поиска оптимальных параметров для моделей.\n",
    "\n",
    "**Внимание! Во всех заданиях в качестве целевой метрики используется MAE (средняя абсолютная ошибка).** Значение MAE вычисляется как\n",
    "\n",
    "$$\n",
    "  MAE = \\sum_{i = 1}^N\\dfrac{|a(x_i) - y_i|}{N},\n",
    "$$\n",
    "\n",
    "где $N$ - число объектов в тестовой выборке, $x_i$ - вектор признаков i-го объекта, $a(x_i)$ - предсказание на i-ом объекте, $y_i$ - значение целевого признака на i-м объекте."
   ]
  },
  {
   "cell_type": "markdown",
   "metadata": {
    "id": "wXxCHox60QUr",
    "pycharm": {
     "name": "#%% md\n"
    }
   },
   "source": [
    "## Установка дополнительных библиотек.\n",
    "\n",
    "В этом задании нам понадобятся три бибиотеки, которыми вы ранее не пользовались в этом курсе, а именно:\n",
    "\n",
    "**XGBoost**: Документация [здесь](https://xgboost.readthedocs.io/en/stable/).<br />\n",
    "**LightGBM**: Документация [здесь](https://lightgbm.readthedocs.io/en/latest/index.html). Также дополнительно про установку [тут](https://pypi.org/project/lightgbm/).<br />\n",
    "**Catboost**: Документация [здесь](https://catboost.ai/en/docs/). Можно найти также некоторую информацию на русском [тут](https://habr.com/ru/company/otus/blog/527554/).<br />\n",
    "**HyperOpt**: Документация [здесь](http://hyperopt.github.io/hyperopt/). <br />\n",
    "\n",
    "Все библиотеки легко ставятся через pip (либо альтернативные установщики вроде conda).\n"
   ]
  },
  {
   "cell_type": "markdown",
   "metadata": {
    "id": "wruREWDB0QUt",
    "pycharm": {
     "name": "#%% md\n"
    }
   },
   "source": [
    "## Как правильно перебирать параметры\n",
    "\n",
    "В этом ноутбуке мы будем несколько раз заниматься поиском оптимальных параметров для градиентного бустинга, перебирая задания по заданной сетке. В этом задании от Вас не будет требоваться найти самые лучшие параметры, но всё равно важно правильно составлять сетку для перебора. Для этого нужно понимать суть параметров и их смысл.\n",
    "\n",
    "\n",
    "\n",
    "**learning_rate** -- темп обучения нашего метода. Для этого метода сетка перебора должна быть логарифмической, т.е. перебирать порядковые значения (к примеру, [1e-3, 1e-2, 1e-1, 1]). В большинстве случаев достаточно перебрать значения от 1e-5 до 1.<br />\n",
    "**max_depth** -- максимальная глубина деревьев в ансамбле. Вообще говоря, эта величина зависит от числа признаков, но обычно лучше растить небольшие деревья. К примеру, библиотека CatBoost, которую мы будем исследовать сегодня, рекомендует перебирать значения до 10 (и уточняется, что обычно оптимальная глубина лежит от 6 до 10).<br />\n",
    "**n_estimators** -- количество деревьев в ансамбле. Обычно стоит перебирать с каким-то крупным шагом (можно по логарифмической сетке). Здесь важно найти баланс между производительностью, временем обучения и качеством. Обычно нескольких тысяч деревьев бывает достаточно.<br />\n",
    "\n",
    "Учтите, что в реальных задачах необходимо следить за тем, что оптимальные значения параметров не попадают на границы интервалов, т.е. что вы нашли хотя бы локальный минимум. Если Вы перебрали значения параметра от 1 до 10 и оказалось, что 10 - оптимальное значение, значит следует перебрать и бОльшие числа, чтобы убедиться, что качество не улучшается дальше (или по крайней мере убедиться, что рост качества сильно замедляется и на сильное улучшения рассчитывать не стоит.\n"
   ]
  },
  {
   "cell_type": "markdown",
   "metadata": {
    "id": "qcjjoG7A0QUv"
   },
   "source": [
    "## Подготовка датасета\n",
    "\n",
    "Все библиотеки, используемые сегодня, мы будем проверять на одних и тех же параметрах: n_estimators=1000, max_depth=5, learning_rate=0.1. Таким образом мы устанавливаем, соответственно, число деревьев в ансамбле равным 1000, ограничиваем максимальную глубину деревьев 5 и устанавливаем темп обучения равным 0.1. Создадим сразу словарь, чтобы передавать эти параметры создаваемым регрессорам (если вдруг не знали, словарь можно передавать как параметры, поставив перед ним **).\n",
    "\n",
    "Эти параметры мы вынесем в отдельную переменную `test_parameters`.\n",
    "\n",
    "<span style=\"color:red\">Загрузите датасет, с которым мы будем работать. Его можно найти на платформе cv-gml.ru, в задании `Град. бустинг (ML)`, по ссылке `Дополнительные файлы для решения`. Если Вы решите сохранить этот файл не рядом с ноутбуком, Вы можете исправить путь к этому файлу во второй ячейке ноутбука (в строке с `read_csv`).</span>\n",
    "\n",
    "При желании можно почитать про этот датасет на платформе kaggle: [ссылка на данные](https://www.kaggle.com/bushnag/cars-in-the-middle-east?select=dataframe_YesIndex_YesHeader_C.csv). <span style=\"color:red\"> Не скачивайте датасет из kaggle для выполнения ноутбука, поскольку его могут изменить.</span> Нас интересует файл dataframe_YesIndex_YesHeader_C.csv, поскольку он уже хорошо предобработан (хотя, конечно, датасаентисты должны сами уметь это делать, но ладно).\n",
    "Давайте попробуем загрузить датасет в память и посмотреть, как он выглядит."
   ]
  },
  {
   "cell_type": "code",
   "execution_count": 98,
   "metadata": {
    "id": "1E6Ik0V50QUx",
    "pycharm": {
     "name": "#%%\n"
    }
   },
   "outputs": [],
   "source": [
    "%matplotlib inline\n",
    "from sklearn.ensemble import GradientBoostingRegressor\n",
    "from sklearn.model_selection import train_test_split, GridSearchCV, cross_val_score\n",
    "from sklearn.metrics import mean_absolute_error, make_scorer\n",
    "\n",
    "from hyperopt import hp, tpe, Trials\n",
    "from hyperopt.fmin import fmin\n",
    "from hyperopt.pyll import scope\n",
    "\n",
    "from xgboost import XGBRegressor\n",
    "\n",
    "from lightgbm import LGBMRegressor\n",
    "\n",
    "from catboost import CatBoostRegressor\n",
    "\n",
    "import matplotlib.pyplot as plt\n",
    "import seaborn as sns\n",
    "import pandas as pd\n",
    "\n",
    "import numpy as np\n",
    "\n",
    "import time\n",
    "\n",
    "from IPython.display import clear_output\n",
    "\n",
    "pd.set_option('max_columns', None)"
   ]
  },
  {
   "cell_type": "code",
   "execution_count": 48,
   "metadata": {
    "colab": {
     "base_uri": "https://localhost:8080/",
     "height": 600
    },
    "id": "zfCMHH6P0QU0",
    "outputId": "077f94ec-7b65-445b-801a-6f98afe8403d",
    "pycharm": {
     "name": "#%%\n"
    }
   },
   "outputs": [
    {
     "data": {
      "text/html": [
       "<div>\n",
       "<style scoped>\n",
       "    .dataframe tbody tr th:only-of-type {\n",
       "        vertical-align: middle;\n",
       "    }\n",
       "\n",
       "    .dataframe tbody tr th {\n",
       "        vertical-align: top;\n",
       "    }\n",
       "\n",
       "    .dataframe thead th {\n",
       "        text-align: right;\n",
       "    }\n",
       "</style>\n",
       "<table border=\"1\" class=\"dataframe\">\n",
       "  <thead>\n",
       "    <tr style=\"text-align: right;\">\n",
       "      <th></th>\n",
       "      <th>Engine Capacity</th>\n",
       "      <th>Cylinders</th>\n",
       "      <th>Drive Type</th>\n",
       "      <th>Fuel Tank Capacity</th>\n",
       "      <th>Fuel Economy</th>\n",
       "      <th>Fuel Type</th>\n",
       "      <th>Horsepower</th>\n",
       "      <th>Torque</th>\n",
       "      <th>Transmission</th>\n",
       "      <th>Top Speed</th>\n",
       "      <th>Seating Capacity</th>\n",
       "      <th>Acceleration</th>\n",
       "      <th>Length</th>\n",
       "      <th>Width</th>\n",
       "      <th>Height</th>\n",
       "      <th>Wheelbase</th>\n",
       "      <th>Trunk Capacity</th>\n",
       "      <th>name</th>\n",
       "      <th>price</th>\n",
       "      <th>currency</th>\n",
       "      <th>Country</th>\n",
       "    </tr>\n",
       "  </thead>\n",
       "  <tbody>\n",
       "    <tr>\n",
       "      <th>0</th>\n",
       "      <td>1.2</td>\n",
       "      <td>3</td>\n",
       "      <td>0</td>\n",
       "      <td>42.0</td>\n",
       "      <td>4.9</td>\n",
       "      <td>0</td>\n",
       "      <td>76</td>\n",
       "      <td>100.0</td>\n",
       "      <td>0</td>\n",
       "      <td>170</td>\n",
       "      <td>5</td>\n",
       "      <td>14.0</td>\n",
       "      <td>4.245</td>\n",
       "      <td>1.670</td>\n",
       "      <td>1.515</td>\n",
       "      <td>2.550</td>\n",
       "      <td>450.0</td>\n",
       "      <td>Mitsubishi Attrage 2021 1.2 GLX (Base)</td>\n",
       "      <td>34099.0</td>\n",
       "      <td>0</td>\n",
       "      <td>0</td>\n",
       "    </tr>\n",
       "    <tr>\n",
       "      <th>1</th>\n",
       "      <td>1.2</td>\n",
       "      <td>3</td>\n",
       "      <td>0</td>\n",
       "      <td>42.0</td>\n",
       "      <td>4.9</td>\n",
       "      <td>0</td>\n",
       "      <td>76</td>\n",
       "      <td>100.0</td>\n",
       "      <td>0</td>\n",
       "      <td>170</td>\n",
       "      <td>5</td>\n",
       "      <td>14.0</td>\n",
       "      <td>4.245</td>\n",
       "      <td>1.670</td>\n",
       "      <td>1.515</td>\n",
       "      <td>2.550</td>\n",
       "      <td>450.0</td>\n",
       "      <td>Mitsubishi Attrage 2021 1.2 GLX (Base)</td>\n",
       "      <td>34099.0</td>\n",
       "      <td>0</td>\n",
       "      <td>0</td>\n",
       "    </tr>\n",
       "    <tr>\n",
       "      <th>2</th>\n",
       "      <td>1.4</td>\n",
       "      <td>4</td>\n",
       "      <td>0</td>\n",
       "      <td>45.0</td>\n",
       "      <td>6.3</td>\n",
       "      <td>0</td>\n",
       "      <td>75</td>\n",
       "      <td>118.0</td>\n",
       "      <td>1</td>\n",
       "      <td>156</td>\n",
       "      <td>2</td>\n",
       "      <td>16.0</td>\n",
       "      <td>3.864</td>\n",
       "      <td>1.716</td>\n",
       "      <td>1.721</td>\n",
       "      <td>2.513</td>\n",
       "      <td>2800.0</td>\n",
       "      <td>Fiat Fiorino 2021 1.4L Standard</td>\n",
       "      <td>41250.0</td>\n",
       "      <td>0</td>\n",
       "      <td>0</td>\n",
       "    </tr>\n",
       "    <tr>\n",
       "      <th>3</th>\n",
       "      <td>1.6</td>\n",
       "      <td>4</td>\n",
       "      <td>0</td>\n",
       "      <td>50.0</td>\n",
       "      <td>6.4</td>\n",
       "      <td>0</td>\n",
       "      <td>102</td>\n",
       "      <td>145.0</td>\n",
       "      <td>0</td>\n",
       "      <td>180</td>\n",
       "      <td>5</td>\n",
       "      <td>11.0</td>\n",
       "      <td>4.354</td>\n",
       "      <td>1.994</td>\n",
       "      <td>1.529</td>\n",
       "      <td>2.635</td>\n",
       "      <td>510.0</td>\n",
       "      <td>Renault Symbol 2021 1.6L PE</td>\n",
       "      <td>44930.0</td>\n",
       "      <td>0</td>\n",
       "      <td>0</td>\n",
       "    </tr>\n",
       "    <tr>\n",
       "      <th>4</th>\n",
       "      <td>1.5</td>\n",
       "      <td>4</td>\n",
       "      <td>0</td>\n",
       "      <td>48.0</td>\n",
       "      <td>5.8</td>\n",
       "      <td>0</td>\n",
       "      <td>112</td>\n",
       "      <td>150.0</td>\n",
       "      <td>0</td>\n",
       "      <td>170</td>\n",
       "      <td>5</td>\n",
       "      <td>10.9</td>\n",
       "      <td>4.314</td>\n",
       "      <td>1.809</td>\n",
       "      <td>1.624</td>\n",
       "      <td>2.585</td>\n",
       "      <td>448.0</td>\n",
       "      <td>MG ZS 2021 1.5L STD</td>\n",
       "      <td>57787.0</td>\n",
       "      <td>0</td>\n",
       "      <td>0</td>\n",
       "    </tr>\n",
       "  </tbody>\n",
       "</table>\n",
       "</div>"
      ],
      "text/plain": [
       "   Engine Capacity  Cylinders  Drive Type  Fuel Tank Capacity  Fuel Economy  \\\n",
       "0              1.2          3           0                42.0           4.9   \n",
       "1              1.2          3           0                42.0           4.9   \n",
       "2              1.4          4           0                45.0           6.3   \n",
       "3              1.6          4           0                50.0           6.4   \n",
       "4              1.5          4           0                48.0           5.8   \n",
       "\n",
       "   Fuel Type  Horsepower  Torque  Transmission  Top Speed  Seating Capacity  \\\n",
       "0          0          76   100.0             0        170                 5   \n",
       "1          0          76   100.0             0        170                 5   \n",
       "2          0          75   118.0             1        156                 2   \n",
       "3          0         102   145.0             0        180                 5   \n",
       "4          0         112   150.0             0        170                 5   \n",
       "\n",
       "   Acceleration  Length  Width  Height  Wheelbase  Trunk Capacity  \\\n",
       "0          14.0   4.245  1.670   1.515      2.550           450.0   \n",
       "1          14.0   4.245  1.670   1.515      2.550           450.0   \n",
       "2          16.0   3.864  1.716   1.721      2.513          2800.0   \n",
       "3          11.0   4.354  1.994   1.529      2.635           510.0   \n",
       "4          10.9   4.314  1.809   1.624      2.585           448.0   \n",
       "\n",
       "                                     name    price  currency  Country  \n",
       "0  Mitsubishi Attrage 2021 1.2 GLX (Base)  34099.0         0        0  \n",
       "1  Mitsubishi Attrage 2021 1.2 GLX (Base)  34099.0         0        0  \n",
       "2         Fiat Fiorino 2021 1.4L Standard  41250.0         0        0  \n",
       "3             Renault Symbol 2021 1.6L PE  44930.0         0        0  \n",
       "4                     MG ZS 2021 1.5L STD  57787.0         0        0  "
      ]
     },
     "execution_count": 48,
     "metadata": {},
     "output_type": "execute_result"
    }
   ],
   "source": [
    "test_parameters = {\"n_estimators\": 1000, \"max_depth\": 5, \"learning_rate\":0.1}\n",
    "currency = {0: 27, 1: 28, 2: 28, 3: 336, 4: 265, 5: 271}\n",
    "variables_category = {\"Drive Type\":'category', \"Cylinders\":'category', \n",
    "                      \"Transmission\":'category', \"brand\":'category', \n",
    "                      \"Seating Capacity\":'category', 'Fuel Type':'category',\n",
    "                      \"currency\": 'category', \"Country\": 'category',\n",
    "                      \"brand\": 'category'}\n",
    "\n",
    "df = pd.read_csv('dataframe_YesIndex_YesHeader_C.csv', index_col=0)\n",
    "df.head()"
   ]
  },
  {
   "cell_type": "markdown",
   "metadata": {
    "id": "5gfg47HJ0QU2",
    "pycharm": {
     "name": "#%% md\n"
    }
   },
   "source": [
    "### Задание 0 (без проверки, 0 баллов)\n",
    "\n",
    "Посмотрите на цены автомобилей. Попробуйте понять, написаны они в одной валюте или нет. Если нет -- будут ли у нас серьезные проблемы при использовании деревьев? Стоит ли нам что-то сделать для того, чтобы нивелировать эту проблему?\n"
   ]
  },
  {
   "cell_type": "markdown",
   "metadata": {
    "id": "q2vpOc780QU3"
   },
   "source": [
    "В глаза бросаются две проблемы: у нас имеется информация о производителе автомобиля, скрытая в текстовой переменной модели автомобиля (нет отдельного признака). Также имеются некоторые категориальные переменные. Со всем этим безобразием надо что-то сделать.\n",
    "\n",
    "### **Задание 1 (кросс-проверка, 3 балла)**\n",
    "**Данные**: датасет со стоимостью поддержанных автомобилей  \n",
    "**Цели**: В данном задании следует выполнить следующие пункты (выполнять можно в любом порядке)\n",
    "1. Изучить датасет, проверить наличие пропусков. При необходимости заменить их на среднее значение признака.\n",
    "3. Добавить столбец brand с информацией о производителе автомобиля (для простоты можно взять первое слово в названии модели)\n",
    "4. Решить, какие признаки Вы хотите сделать категориальными. Конвертировать выбранные категориальные столбцы в тип category. \n",
    "5. Создать датасет А с категориальными признаками в виде категорий. Для этого необходимо создать вектор целевых значений (столбец цен автомобилей) и матрицу признаков с категориальными переменными в виде категорий (получается путем удаления только целевой переменной из матрицы с данными). Дополнительно стоит создать список с названиями и индексами столбцов категориальных переменных (поможет в будущем).\n",
    "6. Создать датасет B без категориальных признаков. Для этого необходимо создать вектор целевых значений (столбец цен автомобилей) и удалить из матрицы признаков столбец с целевыми переменными, а также все категориальные переменные.\n",
    "8. Создать датасет C с категориальными признаками в виде one-hot encoding. Для этого необходимо создать вектор целевых значений (столбец цен автомобилей), удалить из матрицы признаков столбец с целевыми переменными и все категориальными переменные, а затем добавить новые признаки, соответствующие one-hot encoding категориальных переменных (здесь вам поможет функция `pd.get_dummies`).\n",
    "9. Разбить датасеты на тренировочное и тестовое множества, используя `train_test_split(X, y, test_size=0.25, random_state=0)` (зафиксировав random_seed мы получим одинаковое разбиение на обучение/тест для всех трёх выборок)."
   ]
  },
  {
   "cell_type": "code",
   "execution_count": 49,
   "metadata": {
    "colab": {
     "base_uri": "https://localhost:8080/",
     "height": 305
    },
    "id": "wdbeEWrZ-pIP",
    "outputId": "b4f8eb63-be02-4651-c5c5-ccc694b067f2"
   },
   "outputs": [
    {
     "data": {
      "text/html": [
       "<div>\n",
       "<style scoped>\n",
       "    .dataframe tbody tr th:only-of-type {\n",
       "        vertical-align: middle;\n",
       "    }\n",
       "\n",
       "    .dataframe tbody tr th {\n",
       "        vertical-align: top;\n",
       "    }\n",
       "\n",
       "    .dataframe thead th {\n",
       "        text-align: right;\n",
       "    }\n",
       "</style>\n",
       "<table border=\"1\" class=\"dataframe\">\n",
       "  <thead>\n",
       "    <tr style=\"text-align: right;\">\n",
       "      <th></th>\n",
       "      <th>Engine Capacity</th>\n",
       "      <th>Cylinders</th>\n",
       "      <th>Drive Type</th>\n",
       "      <th>Fuel Tank Capacity</th>\n",
       "      <th>Fuel Economy</th>\n",
       "      <th>Fuel Type</th>\n",
       "      <th>Horsepower</th>\n",
       "      <th>Torque</th>\n",
       "      <th>Transmission</th>\n",
       "      <th>Top Speed</th>\n",
       "      <th>Seating Capacity</th>\n",
       "      <th>Acceleration</th>\n",
       "      <th>Length</th>\n",
       "      <th>Width</th>\n",
       "      <th>Height</th>\n",
       "      <th>Wheelbase</th>\n",
       "      <th>Trunk Capacity</th>\n",
       "      <th>price</th>\n",
       "      <th>currency</th>\n",
       "      <th>Country</th>\n",
       "      <th>brand</th>\n",
       "    </tr>\n",
       "  </thead>\n",
       "  <tbody>\n",
       "    <tr>\n",
       "      <th>0</th>\n",
       "      <td>1.2</td>\n",
       "      <td>3.0</td>\n",
       "      <td>0.0</td>\n",
       "      <td>42.0</td>\n",
       "      <td>4.9</td>\n",
       "      <td>0.0</td>\n",
       "      <td>76.0</td>\n",
       "      <td>100.0</td>\n",
       "      <td>0.0</td>\n",
       "      <td>170.0</td>\n",
       "      <td>5.0</td>\n",
       "      <td>14.0</td>\n",
       "      <td>4.245</td>\n",
       "      <td>1.670</td>\n",
       "      <td>1.515</td>\n",
       "      <td>2.550</td>\n",
       "      <td>450.0</td>\n",
       "      <td>920673.0</td>\n",
       "      <td>0.0</td>\n",
       "      <td>0.0</td>\n",
       "      <td>Mitsubishi</td>\n",
       "    </tr>\n",
       "    <tr>\n",
       "      <th>2</th>\n",
       "      <td>1.4</td>\n",
       "      <td>4.0</td>\n",
       "      <td>0.0</td>\n",
       "      <td>45.0</td>\n",
       "      <td>6.3</td>\n",
       "      <td>0.0</td>\n",
       "      <td>75.0</td>\n",
       "      <td>118.0</td>\n",
       "      <td>1.0</td>\n",
       "      <td>156.0</td>\n",
       "      <td>2.0</td>\n",
       "      <td>16.0</td>\n",
       "      <td>3.864</td>\n",
       "      <td>1.716</td>\n",
       "      <td>1.721</td>\n",
       "      <td>2.513</td>\n",
       "      <td>2800.0</td>\n",
       "      <td>1113750.0</td>\n",
       "      <td>0.0</td>\n",
       "      <td>0.0</td>\n",
       "      <td>Fiat</td>\n",
       "    </tr>\n",
       "    <tr>\n",
       "      <th>3</th>\n",
       "      <td>1.6</td>\n",
       "      <td>4.0</td>\n",
       "      <td>0.0</td>\n",
       "      <td>50.0</td>\n",
       "      <td>6.4</td>\n",
       "      <td>0.0</td>\n",
       "      <td>102.0</td>\n",
       "      <td>145.0</td>\n",
       "      <td>0.0</td>\n",
       "      <td>180.0</td>\n",
       "      <td>5.0</td>\n",
       "      <td>11.0</td>\n",
       "      <td>4.354</td>\n",
       "      <td>1.994</td>\n",
       "      <td>1.529</td>\n",
       "      <td>2.635</td>\n",
       "      <td>510.0</td>\n",
       "      <td>1213110.0</td>\n",
       "      <td>0.0</td>\n",
       "      <td>0.0</td>\n",
       "      <td>Renault</td>\n",
       "    </tr>\n",
       "    <tr>\n",
       "      <th>4</th>\n",
       "      <td>1.5</td>\n",
       "      <td>4.0</td>\n",
       "      <td>0.0</td>\n",
       "      <td>48.0</td>\n",
       "      <td>5.8</td>\n",
       "      <td>0.0</td>\n",
       "      <td>112.0</td>\n",
       "      <td>150.0</td>\n",
       "      <td>0.0</td>\n",
       "      <td>170.0</td>\n",
       "      <td>5.0</td>\n",
       "      <td>10.9</td>\n",
       "      <td>4.314</td>\n",
       "      <td>1.809</td>\n",
       "      <td>1.624</td>\n",
       "      <td>2.585</td>\n",
       "      <td>448.0</td>\n",
       "      <td>1560249.0</td>\n",
       "      <td>0.0</td>\n",
       "      <td>0.0</td>\n",
       "      <td>MG</td>\n",
       "    </tr>\n",
       "    <tr>\n",
       "      <th>5</th>\n",
       "      <td>1.4</td>\n",
       "      <td>4.0</td>\n",
       "      <td>0.0</td>\n",
       "      <td>35.0</td>\n",
       "      <td>5.1</td>\n",
       "      <td>0.0</td>\n",
       "      <td>98.0</td>\n",
       "      <td>127.0</td>\n",
       "      <td>0.0</td>\n",
       "      <td>170.0</td>\n",
       "      <td>5.0</td>\n",
       "      <td>12.0</td>\n",
       "      <td>3.636</td>\n",
       "      <td>1.597</td>\n",
       "      <td>1.483</td>\n",
       "      <td>2.385</td>\n",
       "      <td>314.0</td>\n",
       "      <td>1452330.0</td>\n",
       "      <td>0.0</td>\n",
       "      <td>0.0</td>\n",
       "      <td>Chevrolet</td>\n",
       "    </tr>\n",
       "  </tbody>\n",
       "</table>\n",
       "</div>"
      ],
      "text/plain": [
       "   Engine Capacity Cylinders Drive Type  Fuel Tank Capacity  Fuel Economy  \\\n",
       "0              1.2       3.0        0.0                42.0           4.9   \n",
       "2              1.4       4.0        0.0                45.0           6.3   \n",
       "3              1.6       4.0        0.0                50.0           6.4   \n",
       "4              1.5       4.0        0.0                48.0           5.8   \n",
       "5              1.4       4.0        0.0                35.0           5.1   \n",
       "\n",
       "  Fuel Type  Horsepower  Torque Transmission  Top Speed Seating Capacity  \\\n",
       "0       0.0        76.0   100.0          0.0      170.0              5.0   \n",
       "2       0.0        75.0   118.0          1.0      156.0              2.0   \n",
       "3       0.0       102.0   145.0          0.0      180.0              5.0   \n",
       "4       0.0       112.0   150.0          0.0      170.0              5.0   \n",
       "5       0.0        98.0   127.0          0.0      170.0              5.0   \n",
       "\n",
       "   Acceleration  Length  Width  Height  Wheelbase  Trunk Capacity      price  \\\n",
       "0          14.0   4.245  1.670   1.515      2.550           450.0   920673.0   \n",
       "2          16.0   3.864  1.716   1.721      2.513          2800.0  1113750.0   \n",
       "3          11.0   4.354  1.994   1.529      2.635           510.0  1213110.0   \n",
       "4          10.9   4.314  1.809   1.624      2.585           448.0  1560249.0   \n",
       "5          12.0   3.636  1.597   1.483      2.385           314.0  1452330.0   \n",
       "\n",
       "  currency Country       brand  \n",
       "0      0.0     0.0  Mitsubishi  \n",
       "2      0.0     0.0        Fiat  \n",
       "3      0.0     0.0     Renault  \n",
       "4      0.0     0.0          MG  \n",
       "5      0.0     0.0   Chevrolet  "
      ]
     },
     "execution_count": 49,
     "metadata": {},
     "output_type": "execute_result"
    }
   ],
   "source": [
    "def get_norm_dataset():\n",
    "  df = pd.read_csv('dataframe_YesIndex_YesHeader_C.csv', index_col=0)\n",
    "  df = df.drop_duplicates()\n",
    "  df.loc[:,'price'] = df['price']*df['currency'].apply(lambda x: currency.get(x))\n",
    "  df.loc[df['Engine Capacity']==0,:] = df['Engine Capacity'].mean()\n",
    "  df.drop(df[df['Torque'] == df['Torque'].min()].index, inplace=True)\n",
    "  for i in ['Length', 'Width', 'Height', 'Wheelbase']:\n",
    "    df.loc[df[i] > 100, i] = df.loc[df[i] > 100, i]/1000\n",
    "  df.loc[:,'brand'] = df['name'].apply(lambda x: x.split()[0])\n",
    "  df = df.astype(variables_category)\n",
    "  df.drop('name', inplace=True, axis=1)  \n",
    "  return df\n",
    "\n",
    "df = get_norm_dataset()\n",
    "df.head()"
   ]
  },
  {
   "cell_type": "code",
   "execution_count": 50,
   "metadata": {
    "id": "zSyyq_VL0QU4",
    "pycharm": {
     "name": "#%%\n"
    }
   },
   "outputs": [],
   "source": [
    "def train_test(a):\n",
    "  f = train_test_split(a, y, test_size=0.25, random_state=0)\n",
    "  return {'X_train': f[0], 'X_test': f[1], 'y_train': f[2], 'y_test': f[3]}\n",
    "\n",
    "A = get_norm_dataset()\n",
    "B = get_norm_dataset().drop(variables_category.keys(), axis=1)\n",
    "C = pd.concat((B, pd.get_dummies(get_norm_dataset()[variables_category.keys()])),axis=1)\n",
    "y = A.pop('price')\n",
    "B.drop('price', inplace=True, axis=1)\n",
    "C.drop('price', inplace=True, axis=1)\n",
    "\n",
    "datasets = {'A': train_test(A),\n",
    "            'B': train_test(B), \n",
    "            'C': train_test(C)}"
   ]
  },
  {
   "cell_type": "markdown",
   "metadata": {
    "id": "rA2baaJq0QU4",
    "pycharm": {
     "name": "#%% md\n"
    }
   },
   "source": [
    "Итак, кажется, что у нас всё готово для того, чтобы начать искать ответы на волнующие нас вопросы. Начнем со столь любимой нами библиотеки, а именно...\n",
    "\n",
    "## Градиентный бустинг со sklearn\n",
    "\n",
    "Естественно, в sklearn имеется реализация градиентного бустинга, которая хранится в sklearn.ensemble.GradientBoostingRegressor. Преимущественно данным классом пользуются в учебных заданиях, поскольку в реальных задачах предпочтение отдаётся другим библиотекам. Давайте попробуем понять, заслуженно ли градиентный бустинг в sklearn не пользуется популярностью.\n",
    "\n",
    "FYI: в sklearn имеется также реализация GradientBoostingClassifier для задач классификации, но пользоваться им мы сегодня не будем.\n",
    "\n",
    "GradientBoostingRegressor из коробки не умеет работать с категориальными признаками. Мы к этому уже подготовились, закодировав наши признаки.\n",
    "\n",
    "### **Задание 2 (кросс-проверка, 2 балла)**:\n",
    "\n",
    "**Данные**: датасет со стоимостью поддержанных автомобилей    \n",
    "**Метрика**: MAE    \n",
    "**Цели**: В данном задании следует выполнить следующие пункты:    \n",
    "1. Обучить sklearn.ensemble.GradientBoostingRegressor на датасетах B и C, используя параметры n_estimators=1000, max_depth=5, learning_rate=0.1 (наши `test_parameters`). Замерьте время обучения, получите предсказания данных моделей на тестовом множестве.\n",
    "2. Обучить sklearn.ensemble.GradientBoostingRegressor на датасете B (можно и на C, если позволяют вычислительные ресурсы), используя кросс-валидацию на тренировочном множестве и подбирая значения для параметров n_estimators, learning_rate и max_depth. для простоты можете воспользоваться GridSearchCV. При необходимости можно оптимизировать параметры по одному, а не все сразу. Выведите лучшие параметры. Получите предсказания лучшей модели (с лучшими параметрами) на тестовом множестве. Для ускорения процесса не забудьте воспользоваться n_jobs.\n",
    "3. Посчитать MAE для полученных предсказаний на тренировочном и тестовом множествах (можно воспользоваться sklearn.metrics.mean_absolute_error).\n",
    "5. Вывести результаты и время в таблице DataFrame.\n",
    "4. Сделайте выводы. Оцените полезность категориальных переменных и поиска оптимальных параметров. Оцените время, затраченное на обучение. Попробуйте дать оценку получившемуся MAE: оно большое или маленькое?\n"
   ]
  },
  {
   "cell_type": "code",
   "execution_count": 51,
   "metadata": {
    "colab": {
     "base_uri": "https://localhost:8080/"
    },
    "id": "ea_JVRhR0QU5",
    "outputId": "a1c19bc3-3cac-4186-d185-2a1176da39a7",
    "pycharm": {
     "name": "#%%\n"
    }
   },
   "outputs": [
    {
     "name": "stdout",
     "output_type": "stream",
     "text": [
      "Время обучения на B: 0.12 мин\n",
      "Время обучения на С: 0.25 мин\n"
     ]
    }
   ],
   "source": [
    "df_skl = pd.DataFrame(columns=['Dataset', 'Parameters', 'Time', 'MAE'])\n",
    "\n",
    "# your cool code here\n",
    "start = time.time()\n",
    "model_skl_gbr_B = GradientBoostingRegressor(**test_parameters).fit(datasets['B']['X_train'], datasets['B']['y_train'])\n",
    "time_model_skl_gbr_B = time.time()-start\n",
    "print(f'Время обучения на B: {time_model_skl_gbr_B/60:.2f} мин')\n",
    "\n",
    "start = time.time()\n",
    "model_skl_gbr_C = GradientBoostingRegressor(**test_parameters).fit(datasets['C']['X_train'], datasets['C']['y_train'])\n",
    "time_model_skl_gbr_C = time.time()-start\n",
    "print(f'Время обучения на С: {time_model_skl_gbr_C/60:.2f} мин')"
   ]
  },
  {
   "cell_type": "code",
   "execution_count": 52,
   "metadata": {
    "colab": {
     "base_uri": "https://localhost:8080/"
    },
    "id": "yZinL7UUex8o",
    "outputId": "33596dce-09b9-40ae-b7b0-04412592dbe7"
   },
   "outputs": [
    {
     "name": "stdout",
     "output_type": "stream",
     "text": [
      "Fitting 3 folds for each of 12 candidates, totalling 36 fits\n",
      "Время обучения на С: 1.94 мин\n"
     ]
    }
   ],
   "source": [
    "params = {'n_estimators': [1000, 1600], \n",
    "          'learning_rate': [1e-2, 1e-1],\n",
    "          'max_depth': [5, 8, 10]}\n",
    "start = time.time()\n",
    "model_skl_gbr_gs = GridSearchCV(GradientBoostingRegressor(), \n",
    "                                param_grid=params, \n",
    "                                cv = 3, \n",
    "                                n_jobs=-1,\n",
    "                                scoring = make_scorer(mean_absolute_error, greater_is_better=False), \n",
    "                                verbose=1).fit(datasets['B']['X_train'], datasets['B']['y_train'])\n",
    "time_model_skl_gbr_gs = time.time()-start\n",
    "print(f'Время обучения на С: {time_model_skl_gbr_gs/60:.2f} мин')"
   ]
  },
  {
   "cell_type": "code",
   "execution_count": 53,
   "metadata": {
    "colab": {
     "base_uri": "https://localhost:8080/"
    },
    "id": "VSJ93Y-Q6htq",
    "outputId": "fae91ba2-445f-4461-bde5-fd222b5a5d74"
   },
   "outputs": [
    {
     "data": {
      "text/plain": [
       "({'learning_rate': 0.1, 'max_depth': 5, 'n_estimators': 1000},\n",
       " -920869.3961802517)"
      ]
     },
     "execution_count": 53,
     "metadata": {},
     "output_type": "execute_result"
    }
   ],
   "source": [
    "model_skl_gbr_gs.best_params_, model_skl_gbr_gs.best_score_"
   ]
  },
  {
   "cell_type": "code",
   "execution_count": 54,
   "metadata": {
    "id": "DKu4EgRbHh1Q"
   },
   "outputs": [],
   "source": [
    "def get_MAE(model, X_train, y_train, X_test, y_test):\n",
    "  MAE_train = mean_absolute_error(model.predict(X_train), y_train)\n",
    "  MAE_test = mean_absolute_error(model.predict(X_test), y_test)\n",
    "  return MAE_train, MAE_test\n",
    "\n",
    "def print_MAE(name, mae1, mae2):\n",
    "  print(f'{name} train = {mae1}')\n",
    "  print(f'{name} test  = {mae2}')\n",
    "  print()\n",
    "\n",
    "\n",
    "MAE_B_train, MAE_B_test = get_MAE(model_skl_gbr_B, **datasets['B'])\n",
    "\n",
    "MAE_C_train, MAE_C_test = get_MAE(model_skl_gbr_C, **datasets['C'])\n",
    "\n",
    "MAE_gs_train, MAE_gs_test = get_MAE(model_skl_gbr_gs.best_estimator_, **datasets['B'])"
   ]
  },
  {
   "cell_type": "code",
   "execution_count": 55,
   "metadata": {
    "colab": {
     "base_uri": "https://localhost:8080/"
    },
    "id": "dwI4GfYiIxml",
    "outputId": "c7251f44-1a54-4601-d8ee-dc92119bf859"
   },
   "outputs": [
    {
     "name": "stdout",
     "output_type": "stream",
     "text": [
      "GradientBoostingRegressor на датасете B train = 424913.7023602083\n",
      "GradientBoostingRegressor на датасете B test  = 839582.8173957923\n",
      "\n",
      "GradientBoostingRegressor на датасете C train = 185216.88933722104\n",
      "GradientBoostingRegressor на датасете C test  = 688682.1424236018\n",
      "\n",
      "GridSearchCV на датасете B train = 424913.7023602083\n",
      "GridSearchCV на датасете B test  = 841440.6674064684\n",
      "\n"
     ]
    }
   ],
   "source": [
    "print_MAE('GradientBoostingRegressor на датасете B', MAE_B_train, MAE_B_test)\n",
    "print_MAE('GradientBoostingRegressor на датасете C', MAE_C_train, MAE_C_test)\n",
    "print_MAE('GridSearchCV на датасете B', MAE_gs_train, MAE_gs_test)\n"
   ]
  },
  {
   "cell_type": "code",
   "execution_count": 56,
   "metadata": {
    "id": "gloH7jvgV3uM"
   },
   "outputs": [],
   "source": [
    "df_skl.Dataset = ['B', 'C', 'B']\n",
    "df_skl.Parameters = [test_parameters, test_parameters, model_skl_gbr_gs.best_params_]\n",
    "df_skl.Time = [time_model_skl_gbr_B, time_model_skl_gbr_C, time_model_skl_gbr_gs]\n",
    "df_skl.MAE = [MAE_B_test, MAE_C_test, MAE_gs_test]"
   ]
  },
  {
   "cell_type": "code",
   "execution_count": 57,
   "metadata": {
    "colab": {
     "base_uri": "https://localhost:8080/",
     "height": 143
    },
    "id": "4BchycSdWTXz",
    "outputId": "4e4485e8-f664-4a99-bfe0-6ba7128be9b5"
   },
   "outputs": [
    {
     "data": {
      "text/html": [
       "<div>\n",
       "<style scoped>\n",
       "    .dataframe tbody tr th:only-of-type {\n",
       "        vertical-align: middle;\n",
       "    }\n",
       "\n",
       "    .dataframe tbody tr th {\n",
       "        vertical-align: top;\n",
       "    }\n",
       "\n",
       "    .dataframe thead th {\n",
       "        text-align: right;\n",
       "    }\n",
       "</style>\n",
       "<table border=\"1\" class=\"dataframe\">\n",
       "  <thead>\n",
       "    <tr style=\"text-align: right;\">\n",
       "      <th></th>\n",
       "      <th>Dataset</th>\n",
       "      <th>Parameters</th>\n",
       "      <th>Time</th>\n",
       "      <th>MAE</th>\n",
       "    </tr>\n",
       "  </thead>\n",
       "  <tbody>\n",
       "    <tr>\n",
       "      <th>0</th>\n",
       "      <td>B</td>\n",
       "      <td>{'n_estimators': 1000, 'max_depth': 5, 'learni...</td>\n",
       "      <td>7.027443</td>\n",
       "      <td>839582.817396</td>\n",
       "    </tr>\n",
       "    <tr>\n",
       "      <th>1</th>\n",
       "      <td>C</td>\n",
       "      <td>{'n_estimators': 1000, 'max_depth': 5, 'learni...</td>\n",
       "      <td>14.983191</td>\n",
       "      <td>688682.142424</td>\n",
       "    </tr>\n",
       "    <tr>\n",
       "      <th>2</th>\n",
       "      <td>B</td>\n",
       "      <td>{'learning_rate': 0.1, 'max_depth': 5, 'n_esti...</td>\n",
       "      <td>116.155422</td>\n",
       "      <td>841440.667406</td>\n",
       "    </tr>\n",
       "  </tbody>\n",
       "</table>\n",
       "</div>"
      ],
      "text/plain": [
       "  Dataset                                         Parameters        Time  \\\n",
       "0       B  {'n_estimators': 1000, 'max_depth': 5, 'learni...    7.027443   \n",
       "1       C  {'n_estimators': 1000, 'max_depth': 5, 'learni...   14.983191   \n",
       "2       B  {'learning_rate': 0.1, 'max_depth': 5, 'n_esti...  116.155422   \n",
       "\n",
       "             MAE  \n",
       "0  839582.817396  \n",
       "1  688682.142424  \n",
       "2  841440.667406  "
      ]
     },
     "execution_count": 57,
     "metadata": {},
     "output_type": "execute_result"
    }
   ],
   "source": [
    "df_skl"
   ]
  },
  {
   "cell_type": "markdown",
   "metadata": {
    "id": "FchaedFf0QU6"
   },
   "source": [
    "**Ваши выводы:**\n",
    "\n",
    "Судя по MAE Использование категориальных переменных сильно улучшает результат. Поиск оптимальных параметров не улучшил результат, но это не проблема GridSearchCV, а датасета (или того, как я его пред обработал:) ). \n",
    "\n",
    "Возможно это проблема конкретного разбиения \n",
    "\n",
    "Что касается времени: по моему получилось GridSearchCV 36 фита (12 моделей на 3 фолда каждая), время одного ~ 0.19 мин(из ячейки выше), получаем 36*0.19 ~ 6.5 мин. Так и получилось. MAE очень плохое. прям совсем :("
   ]
  },
  {
   "cell_type": "markdown",
   "metadata": {
    "id": "DoWD-29G0QU7"
   },
   "source": [
    "И так, sklearn предлагает нам привычный и простой способ тренировки моделей. Однако, для градиентного бустинга существует множество эвристик и трюков, помогающих улучшить результаты. И одна из библиотек, реализующая улучшенную версию бустинга, называется xgboost.\n",
    "\n",
    "## Градиентный бустинг с XGBoost\n",
    "\n",
    "XGBoost стала достаточно популярной библиотекой, которая позволяет добиться хороших результатов без особых усилий (во всяком случае, так гласят легенды). И у нас для вас две новости: хорошая и плохая. Хорошая – xgboost, хоть и является сторонней библиотекой, сохраняет интерфейс sklearn и даже прекрасно работает с GridSearchCV. Плохая – она тоже не умеет из коробки работать с категориальными признаками. Ну что же, давайте пощупаем это безобразие. На этот раз нас интересует класс xgboost.XGBRegressor.\n",
    "\n",
    "Update: относительно недавно в xgboost появилась экспериментальная поддержка категориальных переменных, которая еще не добавлена в стабильную версию, поэтому ею мы пользоваться пока не будем.\n",
    "\n",
    "### Задание 3 (кросс-проверка, 2 балла):\n",
    "**Данные**: датасет со стоимостью поддержанных автомобилей  \n",
    "**Метрика**: MAE  \n",
    "**Цели**: В данном задании следует выполнить следующие пункты:  \n",
    "1. Обучить xgboost.XGBRegressor на датасетах B и C, используя параметры n_estimators=1000, max_depth=5, learning_rate=0.1 (наши `test_parameters`). Замерьте время обучения. Получите предсказания данных моделей на тестовом множестве.\n",
    "2. Обучить xgboost.XGBRegressor на датасетах B и C, используя кросс-валидацию на тренировочном множестве и подбирая значения для параметров n_estimators, learning_rate и max_depth (для простоты можете воспользоваться GridSearchCV). При необходимости можно оптимизировать параметры по одному, а не все сразу. Замерьте время перебора, получите предсказания лучшей модели (с лучшими параметрами) на тестовом множестве. В этом случае устанавливать n_jobs у GridSearchCV не рекомендую, поскольку xgboost сам умеет захватывать все доступные ресурсы, и если GridSearchCV начнет их размножать, то последствия будут печальны.\n",
    "3. Посчитать MAE для полученных предсказаний на тренировочном и тестовом множествах (можно воспользоваться sklearn.metrics.mean_absolute_error).\n",
    "1. Выведите результаты и время в таблице DataFrame.\n",
    "4. Сделайте выводы. Оцените полезность категориальных переменных и поиска оптимальных параметров. Оцените время, затраченное на обучение. Сравните результаты со sklearn."
   ]
  },
  {
   "cell_type": "code",
   "execution_count": 58,
   "metadata": {
    "colab": {
     "base_uri": "https://localhost:8080/"
    },
    "id": "jM3R0cBl0QU7",
    "outputId": "7689cf6f-ef01-42dd-840d-bcedfae9cef0",
    "pycharm": {
     "name": "#%%\n"
    }
   },
   "outputs": [
    {
     "name": "stdout",
     "output_type": "stream",
     "text": [
      "Время обучения на B: 0.05 мин\n",
      "Время обучения на B: 0.09 мин\n"
     ]
    }
   ],
   "source": [
    "df_xgb = pd.DataFrame(columns=['Dataset', 'Parameters', 'Time', 'MAE'])\n",
    "\n",
    "# your perfect code here\n",
    "start = time.time()\n",
    "model_xgb_B = XGBRegressor(**test_parameters, objective ='reg:squarederror').fit(datasets['B']['X_train'], datasets['B']['y_train'])\n",
    "time_model_xgb_B = time.time()-start\n",
    "print(f'Время обучения на B: {time_model_xgb_B/60:.2f} мин')\n",
    "\n",
    "start = time.time()\n",
    "model_xgb_C = XGBRegressor(**test_parameters, objective ='reg:squarederror').fit(datasets['C']['X_train'], datasets['C']['y_train'])\n",
    "time_model_xgb_C = time.time()-start\n",
    "print(f'Время обучения на B: {time_model_xgb_C/60:.2f} мин')"
   ]
  },
  {
   "cell_type": "code",
   "execution_count": 59,
   "metadata": {
    "id": "xjC-fJsdo95l"
   },
   "outputs": [
    {
     "name": "stdout",
     "output_type": "stream",
     "text": [
      "Fitting 3 folds for each of 12 candidates, totalling 36 fits\n",
      "Время обучения на С: 2.05 мин\n"
     ]
    }
   ],
   "source": [
    "params = {'n_estimators': [800, 1200], \n",
    "          'learning_rate': [1e-2, 1e-1],\n",
    "          'max_depth': [6, 8, 10]}\n",
    "start = time.time()\n",
    "model_xgb_gs = GridSearchCV(XGBRegressor(objective ='reg:squarederror'), \n",
    "                                param_grid=params, \n",
    "                                cv = 3,\n",
    "                                scoring =  make_scorer(mean_absolute_error, greater_is_better=False),\n",
    "                                verbose=1).fit(datasets['B']['X_train'], datasets['B']['y_train'])\n",
    "time_model_xgb_gs = time.time()-start\n",
    "print(f'Время обучения на С: {time_model_xgb_gs/60:.2f} мин')"
   ]
  },
  {
   "cell_type": "code",
   "execution_count": 60,
   "metadata": {
    "id": "5p_q3kBOugg6"
   },
   "outputs": [],
   "source": [
    "df_xgb.Dataset = ['B', 'C', 'B']\n",
    "df_xgb.Parameters = [test_parameters, test_parameters, model_xgb_gs.best_params_]\n",
    "df_xgb.Time = [time_model_xgb_B, time_model_xgb_C, time_model_xgb_gs]\n",
    "df_xgb.MAE = [get_MAE(model_xgb_B, **datasets['B'])[1],\n",
    "              get_MAE(model_xgb_C, **datasets['C'])[1],\n",
    "              get_MAE(model_xgb_gs.best_estimator_, **datasets['B'])[1]]"
   ]
  },
  {
   "cell_type": "code",
   "execution_count": 61,
   "metadata": {
    "colab": {
     "base_uri": "https://localhost:8080/",
     "height": 143
    },
    "id": "cFZ_kFL8y7te",
    "outputId": "29961c32-0a04-4f35-fcb6-d1b1e23b6435"
   },
   "outputs": [
    {
     "data": {
      "text/html": [
       "<div>\n",
       "<style scoped>\n",
       "    .dataframe tbody tr th:only-of-type {\n",
       "        vertical-align: middle;\n",
       "    }\n",
       "\n",
       "    .dataframe tbody tr th {\n",
       "        vertical-align: top;\n",
       "    }\n",
       "\n",
       "    .dataframe thead th {\n",
       "        text-align: right;\n",
       "    }\n",
       "</style>\n",
       "<table border=\"1\" class=\"dataframe\">\n",
       "  <thead>\n",
       "    <tr style=\"text-align: right;\">\n",
       "      <th></th>\n",
       "      <th>Dataset</th>\n",
       "      <th>Parameters</th>\n",
       "      <th>Time</th>\n",
       "      <th>MAE</th>\n",
       "    </tr>\n",
       "  </thead>\n",
       "  <tbody>\n",
       "    <tr>\n",
       "      <th>0</th>\n",
       "      <td>B</td>\n",
       "      <td>{'n_estimators': 1000, 'max_depth': 5, 'learni...</td>\n",
       "      <td>3.010482</td>\n",
       "      <td>842479.066826</td>\n",
       "    </tr>\n",
       "    <tr>\n",
       "      <th>1</th>\n",
       "      <td>C</td>\n",
       "      <td>{'n_estimators': 1000, 'max_depth': 5, 'learni...</td>\n",
       "      <td>5.693505</td>\n",
       "      <td>707739.345767</td>\n",
       "    </tr>\n",
       "    <tr>\n",
       "      <th>2</th>\n",
       "      <td>B</td>\n",
       "      <td>{'learning_rate': 0.1, 'max_depth': 8, 'n_esti...</td>\n",
       "      <td>122.878056</td>\n",
       "      <td>856591.323375</td>\n",
       "    </tr>\n",
       "  </tbody>\n",
       "</table>\n",
       "</div>"
      ],
      "text/plain": [
       "  Dataset                                         Parameters        Time  \\\n",
       "0       B  {'n_estimators': 1000, 'max_depth': 5, 'learni...    3.010482   \n",
       "1       C  {'n_estimators': 1000, 'max_depth': 5, 'learni...    5.693505   \n",
       "2       B  {'learning_rate': 0.1, 'max_depth': 8, 'n_esti...  122.878056   \n",
       "\n",
       "             MAE  \n",
       "0  842479.066826  \n",
       "1  707739.345767  \n",
       "2  856591.323375  "
      ]
     },
     "execution_count": 61,
     "metadata": {},
     "output_type": "execute_result"
    }
   ],
   "source": [
    "df_xgb"
   ]
  },
  {
   "cell_type": "code",
   "execution_count": 62,
   "metadata": {
    "id": "EgJoHCh53sN3"
   },
   "outputs": [
    {
     "data": {
      "text/html": [
       "<div>\n",
       "<style scoped>\n",
       "    .dataframe tbody tr th:only-of-type {\n",
       "        vertical-align: middle;\n",
       "    }\n",
       "\n",
       "    .dataframe tbody tr th {\n",
       "        vertical-align: top;\n",
       "    }\n",
       "\n",
       "    .dataframe thead th {\n",
       "        text-align: right;\n",
       "    }\n",
       "</style>\n",
       "<table border=\"1\" class=\"dataframe\">\n",
       "  <thead>\n",
       "    <tr style=\"text-align: right;\">\n",
       "      <th></th>\n",
       "      <th>Dataset</th>\n",
       "      <th>Parameters</th>\n",
       "      <th>Time</th>\n",
       "      <th>MAE</th>\n",
       "    </tr>\n",
       "  </thead>\n",
       "  <tbody>\n",
       "    <tr>\n",
       "      <th>0</th>\n",
       "      <td>B</td>\n",
       "      <td>{'n_estimators': 1000, 'max_depth': 5, 'learni...</td>\n",
       "      <td>7.027443</td>\n",
       "      <td>839582.817396</td>\n",
       "    </tr>\n",
       "    <tr>\n",
       "      <th>1</th>\n",
       "      <td>C</td>\n",
       "      <td>{'n_estimators': 1000, 'max_depth': 5, 'learni...</td>\n",
       "      <td>14.983191</td>\n",
       "      <td>688682.142424</td>\n",
       "    </tr>\n",
       "    <tr>\n",
       "      <th>2</th>\n",
       "      <td>B</td>\n",
       "      <td>{'learning_rate': 0.1, 'max_depth': 5, 'n_esti...</td>\n",
       "      <td>116.155422</td>\n",
       "      <td>841440.667406</td>\n",
       "    </tr>\n",
       "  </tbody>\n",
       "</table>\n",
       "</div>"
      ],
      "text/plain": [
       "  Dataset                                         Parameters        Time  \\\n",
       "0       B  {'n_estimators': 1000, 'max_depth': 5, 'learni...    7.027443   \n",
       "1       C  {'n_estimators': 1000, 'max_depth': 5, 'learni...   14.983191   \n",
       "2       B  {'learning_rate': 0.1, 'max_depth': 5, 'n_esti...  116.155422   \n",
       "\n",
       "             MAE  \n",
       "0  839582.817396  \n",
       "1  688682.142424  \n",
       "2  841440.667406  "
      ]
     },
     "execution_count": 62,
     "metadata": {},
     "output_type": "execute_result"
    }
   ],
   "source": [
    "df_skl"
   ]
  },
  {
   "cell_type": "markdown",
   "metadata": {
    "id": "6BZdNPzB0QU8"
   },
   "source": [
    "**Ваши выводы:** \n",
    "\n",
    "Категориальные переменные действительно полезны. Поиск оптимальных параметров не улушил MAE. Время примерно равно количеству \"фитов\" умноженных на время обучения одного фита model_xgb_B 36 * 0.05 = 2 мин.\n",
    "Результаты MAE sklearn и XGBRegressor примерно одинаковые, но время обучения у sklearn примерно в 2-3 раза больше.\n",
    "\n",
    "Т.к. GridSearchCV выбирает модель с меньшим количеством деревьев, кажется, что задача поставлена неправильно "
   ]
  },
  {
   "cell_type": "markdown",
   "metadata": {
    "id": "gVrnP2gK0QU8",
    "pycharm": {
     "name": "#%% md\n"
    }
   },
   "source": [
    "Таким вот несложным образом нам удалось воспользоваться еще одной библиотекой. Давайте перейдем к третьей библиотеке, которую мы сегодня изучим, и называется она lightgbm.\n",
    "\n",
    "## Градиентный бустинг в lightgbm\n",
    "\n",
    "Про Lightgbm легенды гласят, что она очень быстрая и легкая: что самый большой датасет она без проблем переварит за относительно небольшое время. А еще её разрабатывали не хухры кто, а сами мелкомягкие, так что попробовать её определённо стоит. На этот раз у нас вновь две новости, две хороших и две плохих. Первая хорошая — lightgbm тоже работает с GridSearchCV. Вторая хорошая — lightgbm умеет из коробки работать с категориальными признаками! Плохая — делает она это немного нетривиально (не зря я просил вас запомнить категориальные переменные!). Вторая плохая — да, нам придётся этим пользоваться.\n",
    "\n",
    "Внимание! LightGBM может писать сотню радостных сообщений о том, что он увидел ваши categorical_feature и использует их. При желании можете заглушать эти оповещения, ибо в случае перебора параметров их становится слишком много. (заклинание для заглушения: `warnings.filterwarnings(\"ignore\")`)\n",
    "\n",
    "### Задание 4 (кросс-проверка, 3 балла):\n",
    "**Данные**: датасет со стоимостью поддержанных автомобилей  \n",
    "**Метрика**: MAE  \n",
    "**Цели**: В данном задании следует выполнить следующие пункты:  \n",
    "1. В случае датасета, сохраненном в numpy, lightgbm требует, чтобы категории были закодированы целыми числами от 0 до числа признаков(e.g. ['a', 'b', 'a'] -> [0, 1, 0]). Сделайте это для датасета A. Если вы используете pandas, то для датасета A достаточно установить соответствующие столбцы типа \"категория\", тогда categorical_feature='auto' сам всё подхватит.\n",
    "2. Обучить lightgbm.LGBMRegressor на датасетах A, B и C, используя параметры используя параметры n_estimators=1000, max_depth=5, learning_rate=0.1. В случае датасета A, передайте в функцию fit индексы/имена категориальных признаков. Замерьте время обучения, получите предсказания данных моделей на тестовом множестве.\n",
    "3. Обучить lightgbm.LGBMRegressor на датасетах A, B и C, используя кросс-валидацию на тренировочном множестве и подбирая значения для параметров n_estimators, learning_rate и max_depth (для простоты можете воспользоваться GridSearchCV). Замерьте время, потраченное на поиск оптимальных параметров(вновь не советую использовать n_jobs). Замерьте время перебора, получите предсказания лучшей модели (с лучшими параметрами) на тестовом множестве.\n",
    "4. Посчитать MAE для полученных предсказаний на тренировочном и тестовом множествах (можно воспользоваться sklearn.metrics.mean_absolute_error). Сделайте выводы и полезности использования категориальных переменных и поиска оптимальных параметров.\n",
    "5. Вывести результаты и время в таблице DataFrame."
   ]
  },
  {
   "cell_type": "code",
   "execution_count": 63,
   "metadata": {
    "id": "wUIQClTw0QU9",
    "pycharm": {
     "name": "#%%\n"
    }
   },
   "outputs": [],
   "source": [
    "import warnings\n",
    "warnings.filterwarnings(\"ignore\")\n",
    "\n",
    "df_lightgbm = pd.DataFrame(columns=['Dataset', 'Parameters', 'Time', 'MAE'])\n",
    "\n",
    "# your great code here\n",
    "start = time.time()\n",
    "model_lightgbm_A = LGBMRegressor(**test_parameters).fit(datasets['A']['X_train'], \n",
    "                                                      datasets['A']['y_train'], \n",
    "                                                      categorical_feature=variables_category.keys())\n",
    "time_model_lightgbm_A = time.time() - start\n",
    "\n",
    "\n",
    "start = time.time()\n",
    "model_lightgbm_B = LGBMRegressor(**test_parameters).fit(datasets['B']['X_train'], \n",
    "                                                      datasets['B']['y_train'])\n",
    "time_model_lightgbm_B = time.time() - start\n",
    "\n",
    "\n",
    "start = time.time()\n",
    "model_lightgbm_C = LGBMRegressor(**test_parameters).fit(datasets['C']['X_train'], \n",
    "                                                      datasets['C']['y_train'])\n",
    "time_model_lightgbm_C = time.time() - start"
   ]
  },
  {
   "cell_type": "code",
   "execution_count": 64,
   "metadata": {
    "id": "vCAoNjU_-1_f"
   },
   "outputs": [
    {
     "name": "stdout",
     "output_type": "stream",
     "text": [
      "Fitting 3 folds for each of 27 candidates, totalling 81 fits\n",
      "Fitting 3 folds for each of 27 candidates, totalling 81 fits\n",
      "Fitting 3 folds for each of 27 candidates, totalling 81 fits\n"
     ]
    }
   ],
   "source": [
    "params = {'n_estimators': [800, 1200, 1600], \n",
    "          'learning_rate': [1e-3, 1e-2, 1e-1],\n",
    "          'max_depth': [6, 8, 10]}\n",
    "start = time.time()\n",
    "model_lightgbm_gs_A = GridSearchCV(LGBMRegressor(), \n",
    "                                param_grid=params, \n",
    "                                cv = 3,\n",
    "                                scoring =  make_scorer(mean_absolute_error, greater_is_better=False),\n",
    "                                verbose=1).fit(datasets['A']['X_train'], datasets['A']['y_train'])\n",
    "time_model_lightgbm_gs_A = time.time()-start\n",
    "\n",
    "model_lightgbm_gs_B = GridSearchCV(LGBMRegressor(), \n",
    "                                param_grid=params, \n",
    "                                cv = 3,\n",
    "                                scoring =  make_scorer(mean_absolute_error, greater_is_better=False),\n",
    "                                verbose=1).fit(datasets['B']['X_train'], datasets['B']['y_train'])\n",
    "time_model_lightgbm_gs_B = time.time()-start\n",
    "\n",
    "model_lightgbm_gs_C = GridSearchCV(LGBMRegressor(), \n",
    "                                param_grid=params, \n",
    "                                cv = 3,\n",
    "                                scoring =  make_scorer(mean_absolute_error, greater_is_better=False),\n",
    "                                verbose=1).fit(datasets['C']['X_train'], datasets['C']['y_train'])\n",
    "time_model_lightgbm_gs_C = time.time()-start"
   ]
  },
  {
   "cell_type": "code",
   "execution_count": 65,
   "metadata": {
    "id": "C1EqJ8SCGLO5"
   },
   "outputs": [],
   "source": [
    "df_lightgbm.Dataset = ['A', 'B', 'C', 'A', 'B', 'C']\n",
    "df_lightgbm.Parameters = [test_parameters]*3+[model_lightgbm_gs_A.best_params_,\n",
    "                                              model_lightgbm_gs_B.best_params_,model_lightgbm_gs_C.best_params_]\n",
    "df_lightgbm.Time = [time_model_lightgbm_A,time_model_lightgbm_B,time_model_lightgbm_C,\n",
    "                    time_model_lightgbm_gs_A,time_model_lightgbm_gs_B,time_model_lightgbm_gs_C]\n",
    "df_lightgbm.MAE = [get_MAE(model_lightgbm_A, **datasets['A'])[1],\n",
    "                   get_MAE(model_lightgbm_B, **datasets['B'])[1],\n",
    "                   get_MAE(model_lightgbm_C, **datasets['C'])[1],\n",
    "                   get_MAE(model_lightgbm_gs_A.best_estimator_, **datasets['A'])[1],\n",
    "                   get_MAE(model_lightgbm_gs_B.best_estimator_, **datasets['B'])[1],\n",
    "                   get_MAE(model_lightgbm_gs_C.best_estimator_, **datasets['C'])[1]]"
   ]
  },
  {
   "cell_type": "code",
   "execution_count": 66,
   "metadata": {
    "id": "As5bW45eGGWq"
   },
   "outputs": [
    {
     "data": {
      "text/html": [
       "<div>\n",
       "<style scoped>\n",
       "    .dataframe tbody tr th:only-of-type {\n",
       "        vertical-align: middle;\n",
       "    }\n",
       "\n",
       "    .dataframe tbody tr th {\n",
       "        vertical-align: top;\n",
       "    }\n",
       "\n",
       "    .dataframe thead th {\n",
       "        text-align: right;\n",
       "    }\n",
       "</style>\n",
       "<table border=\"1\" class=\"dataframe\">\n",
       "  <thead>\n",
       "    <tr style=\"text-align: right;\">\n",
       "      <th></th>\n",
       "      <th>Dataset</th>\n",
       "      <th>Parameters</th>\n",
       "      <th>Time</th>\n",
       "      <th>MAE</th>\n",
       "    </tr>\n",
       "  </thead>\n",
       "  <tbody>\n",
       "    <tr>\n",
       "      <th>0</th>\n",
       "      <td>A</td>\n",
       "      <td>{'n_estimators': 1000, 'max_depth': 5, 'learni...</td>\n",
       "      <td>0.733097</td>\n",
       "      <td>721922.145976</td>\n",
       "    </tr>\n",
       "    <tr>\n",
       "      <th>1</th>\n",
       "      <td>B</td>\n",
       "      <td>{'n_estimators': 1000, 'max_depth': 5, 'learni...</td>\n",
       "      <td>0.601922</td>\n",
       "      <td>879298.693265</td>\n",
       "    </tr>\n",
       "    <tr>\n",
       "      <th>2</th>\n",
       "      <td>C</td>\n",
       "      <td>{'n_estimators': 1000, 'max_depth': 5, 'learni...</td>\n",
       "      <td>0.876725</td>\n",
       "      <td>738466.194332</td>\n",
       "    </tr>\n",
       "    <tr>\n",
       "      <th>3</th>\n",
       "      <td>A</td>\n",
       "      <td>{'learning_rate': 0.1, 'max_depth': 6, 'n_esti...</td>\n",
       "      <td>145.323477</td>\n",
       "      <td>710289.837678</td>\n",
       "    </tr>\n",
       "    <tr>\n",
       "      <th>4</th>\n",
       "      <td>B</td>\n",
       "      <td>{'learning_rate': 0.1, 'max_depth': 6, 'n_esti...</td>\n",
       "      <td>268.007041</td>\n",
       "      <td>860641.208610</td>\n",
       "    </tr>\n",
       "    <tr>\n",
       "      <th>5</th>\n",
       "      <td>C</td>\n",
       "      <td>{'learning_rate': 0.1, 'max_depth': 6, 'n_esti...</td>\n",
       "      <td>437.973999</td>\n",
       "      <td>733998.194409</td>\n",
       "    </tr>\n",
       "  </tbody>\n",
       "</table>\n",
       "</div>"
      ],
      "text/plain": [
       "  Dataset                                         Parameters        Time  \\\n",
       "0       A  {'n_estimators': 1000, 'max_depth': 5, 'learni...    0.733097   \n",
       "1       B  {'n_estimators': 1000, 'max_depth': 5, 'learni...    0.601922   \n",
       "2       C  {'n_estimators': 1000, 'max_depth': 5, 'learni...    0.876725   \n",
       "3       A  {'learning_rate': 0.1, 'max_depth': 6, 'n_esti...  145.323477   \n",
       "4       B  {'learning_rate': 0.1, 'max_depth': 6, 'n_esti...  268.007041   \n",
       "5       C  {'learning_rate': 0.1, 'max_depth': 6, 'n_esti...  437.973999   \n",
       "\n",
       "             MAE  \n",
       "0  721922.145976  \n",
       "1  879298.693265  \n",
       "2  738466.194332  \n",
       "3  710289.837678  \n",
       "4  860641.208610  \n",
       "5  733998.194409  "
      ]
     },
     "execution_count": 66,
     "metadata": {},
     "output_type": "execute_result"
    }
   ],
   "source": [
    "df_lightgbm"
   ]
  },
  {
   "cell_type": "markdown",
   "metadata": {
    "id": "hVyPl8ZgVo2m"
   },
   "source": [
    "**Ваши выводы:**\n",
    "Категориальные признаки улучшили результат, подбор параметров тоже его улучшил \n"
   ]
  },
  {
   "cell_type": "markdown",
   "metadata": {
    "id": "WRXP1yof0QU9",
    "pycharm": {
     "name": "#%% md\n"
    }
   },
   "source": [
    "Как вы видите, иногда можно не возиться с OHE, а позволить библиотекам самим это сделать (хотя иногда при этом приходится повозиться с самими данными, чтобы библиотека съела данные).\n",
    "\n",
    "Итак, мы с вами почти стали мастерами градиентного бустинга. Переходим к последней звезде нашего хит-парада.\n",
    "\n"
   ]
  },
  {
   "cell_type": "markdown",
   "metadata": {
    "id": "NzDIOe0e0QU-",
    "pycharm": {
     "name": "#%% md\n"
    }
   },
   "source": [
    "## Градиентный бустинг в catboost\n",
    "\n",
    "Библиотека, созданная в тёмных подвалах яндекса. По легендам эта библиотека умеет работать с категориальными данными, быстрая, эффективная, легко настраивается, из коробки понимает текстовые признаки в задачах классификации и спасла Брюса Уиллиса. Давайте проверим.\n",
    "Вас, наверное, не удивить тем, что эта библиотека работает с GridSearchCV, но им мы пользоваться не будем. В catboost существует своя реализация перебора параметров, и мы попробуем им воспользоваться (ура, разнообразие!). В качестве регрессора нас интересует catboost.CatBoostRegressor.\n",
    "\n",
    "Внимание! Эта библиотека еще более болтлива, чем lightgbm, но это (почти) полностью лечится с помощью verbose. К сожалению, отключением warnings её не сделать молчаливее. А еще эта библиотека может неожиданно создать вам парочку новых папок.\n",
    "\n",
    "### Задание 5 (кросс-проверка, 3 балла):\n",
    "**Данные**: датасет со стоимостью поддержанных автомобилей  \n",
    "**Метрика**: MAE  \n",
    "**Цели**: В данном задании следует выполнить следующие пункты:  \n",
    "1. Обучить catboost.CatBoostRegressor на датасетах A, B и C, используя параметры используя параметры n_estimators=1000, max_depth=5, learning_rate=0.1. В случае датасета A, передайте на вход методу fit/конструктору параметр cat_features, содержащий имена/индексы категориальных переменных. В данном случае переводить категории в целые числа, как мы делали для lightgbm, не нужно. Замерьте время обучения, получите предсказания данных моделей на тестовом множестве.\n",
    "2. Обучить catboost.CatBoostRegressor на датасетах A, B и C, используя метод grid_search (является методом экземпляра класса CatBoostRegressor). Замерьте время, потраченное на поиск оптимальных параметров. Замерьте время перебора, получите предсказания лучшей модели (с лучшими параметрами) на тестовом множестве.\n",
    "3. Посчитать MAE для полученных предсказаний на тренировочном и тестовом множествах (можно воспользоваться sklearn.metrics.mean_absolute_error).\n",
    "4. Сделайте выводы и полезности использования категориальных переменных и поиска оптимальных параметров.\n",
    "5. Вывести результаты и время в таблице DataFrame.\n"
   ]
  },
  {
   "cell_type": "code",
   "execution_count": 67,
   "metadata": {
    "id": "RZ1nDgIC97Jc"
   },
   "outputs": [],
   "source": [
    "datasets['A']['X_train'] = datasets['A']['X_train'].astype({'Country': int,\n",
    "                                                             'Cylinders': int,\n",
    "                                                             'Drive Type': int,\n",
    "                                                             'Fuel Type': int,\n",
    "                                                             'Seating Capacity': int,\n",
    "                                                             'Transmission': int,\n",
    "                                                             'currency': int})\n",
    "datasets['A']['X_test'] = datasets['A']['X_test'].astype({'Country': int,\n",
    "                                                             'Cylinders': int,\n",
    "                                                             'Drive Type': int,\n",
    "                                                             'Fuel Type': int,\n",
    "                                                             'Seating Capacity': int,\n",
    "                                                             'Transmission': int,\n",
    "                                                             'currency': int})"
   ]
  },
  {
   "cell_type": "code",
   "execution_count": 88,
   "metadata": {
    "collapsed": true,
    "id": "xzgO0d5O0QU-",
    "pycharm": {
     "name": "#%%\n"
    }
   },
   "outputs": [],
   "source": [
    "df_catboost = pd.DataFrame(columns=['Dataset', 'Parameters', 'Time', 'MAE'])\n",
    "\n",
    "# your ideal code here\n",
    "\n",
    "# your great code here\n",
    "start = time.time()\n",
    "model_cat_A = CatBoostRegressor(**test_parameters).fit(datasets['A']['X_train'], \n",
    "                                                      datasets['A']['y_train'], \n",
    "                                                      cat_features=[*variables_category.keys()])\n",
    "time_model_cat_A = time.time() - start\n",
    "\n",
    "\n",
    "start = time.time()\n",
    "model_cat_B = CatBoostRegressor(**test_parameters).fit(datasets['B']['X_train'], \n",
    "                                                      datasets['B']['y_train'])\n",
    "time_model_cat_B = time.time() - start\n",
    "\n",
    "\n",
    "start = time.time()\n",
    "model_cat_C = CatBoostRegressor(**test_parameters).fit(datasets['C']['X_train'], \n",
    "                                                      datasets['C']['y_train'])\n",
    "time_model_cat_C = time.time() - start\n",
    "\n",
    "# for i in range(10):\n",
    "#     clear_output(wait=True)\n",
    "#     print(end='')"
   ]
  },
  {
   "cell_type": "code",
   "execution_count": 89,
   "metadata": {
    "colab": {
     "base_uri": "https://localhost:8080/"
    },
    "collapsed": true,
    "id": "qqWmKbE4_C3n",
    "outputId": "494b3e4f-33ea-4d21-abe4-e12072443914"
   },
   "outputs": [],
   "source": [
    "params = {'n_estimators': [800, 1200, 1600], \n",
    "          'learning_rate': [1e-3, 1e-2, 1e-1],\n",
    "          'max_depth': [6, 8, 10]}\n",
    "start = time.time()\n",
    "cat_A = CatBoostRegressor(cat_features=[*variables_category.keys()])\n",
    "model_cat_gs_A = cat_A.grid_search(params, datasets['A']['X_train'], datasets['A']['y_train'])\n",
    "time_model_cat_gs_A = time.time()-start\n",
    "\n",
    "cat_B = CatBoostRegressor()\n",
    "model_cat_gs_B = cat_B.grid_search(params, datasets['B']['X_train'], datasets['B']['y_train'])\n",
    "time_model_cat_gs_B = time.time()-start\n",
    "\n",
    "cat_C = CatBoostRegressor()\n",
    "model_cat_gs_C = cat_C.grid_search(params, datasets['C']['X_train'], datasets['C']['y_train'])\n",
    "time_model_cat_gs_C = time.time()-start\n",
    "\n",
    "# for i in range(10):\n",
    "#     clear_output(wait=True)\n",
    "#     print(end='')"
   ]
  },
  {
   "cell_type": "code",
   "execution_count": 232,
   "metadata": {
    "id": "5vMxxZm6AVBn"
   },
   "outputs": [],
   "source": [
    "df_catboost.Dataset = ['A', 'B', 'C', 'A', 'B', 'C']\n",
    "df_catboost.Parameters = [test_parameters]*3+[model_cat_gs_A['params'],\n",
    "                                              model_cat_gs_B['params'],model_cat_gs_C['params']]\n",
    "df_catboost.Time = [time_model_cat_A,time_model_cat_B,time_model_cat_C,\n",
    "                    time_model_cat_gs_A,time_model_cat_gs_B,time_model_cat_gs_C]\n",
    "df_catboost.MAE = [get_MAE(model_cat_A, **datasets['A'])[1],\n",
    "                   get_MAE(model_cat_B, **datasets['B'])[1],\n",
    "                   get_MAE(model_cat_C, **datasets['C'])[1],\n",
    "                   get_MAE(cat_A, **datasets['A'])[1],\n",
    "                   get_MAE(cat_B, **datasets['B'])[1],\n",
    "                   get_MAE(cat_C, **datasets['C'])[1]]"
   ]
  },
  {
   "cell_type": "code",
   "execution_count": 233,
   "metadata": {
    "id": "dpD3ZSP4OLTp"
   },
   "outputs": [
    {
     "data": {
      "text/html": [
       "<div>\n",
       "<style scoped>\n",
       "    .dataframe tbody tr th:only-of-type {\n",
       "        vertical-align: middle;\n",
       "    }\n",
       "\n",
       "    .dataframe tbody tr th {\n",
       "        vertical-align: top;\n",
       "    }\n",
       "\n",
       "    .dataframe thead th {\n",
       "        text-align: right;\n",
       "    }\n",
       "</style>\n",
       "<table border=\"1\" class=\"dataframe\">\n",
       "  <thead>\n",
       "    <tr style=\"text-align: right;\">\n",
       "      <th></th>\n",
       "      <th>Dataset</th>\n",
       "      <th>Parameters</th>\n",
       "      <th>Time</th>\n",
       "      <th>MAE</th>\n",
       "    </tr>\n",
       "  </thead>\n",
       "  <tbody>\n",
       "    <tr>\n",
       "      <th>0</th>\n",
       "      <td>A</td>\n",
       "      <td>{'n_estimators': 1000, 'max_depth': 5, 'learni...</td>\n",
       "      <td>17.224097</td>\n",
       "      <td>765912.449112</td>\n",
       "    </tr>\n",
       "    <tr>\n",
       "      <th>1</th>\n",
       "      <td>B</td>\n",
       "      <td>{'n_estimators': 1000, 'max_depth': 5, 'learni...</td>\n",
       "      <td>1.900225</td>\n",
       "      <td>864218.134203</td>\n",
       "    </tr>\n",
       "    <tr>\n",
       "      <th>2</th>\n",
       "      <td>C</td>\n",
       "      <td>{'n_estimators': 1000, 'max_depth': 5, 'learni...</td>\n",
       "      <td>2.748972</td>\n",
       "      <td>729447.981933</td>\n",
       "    </tr>\n",
       "    <tr>\n",
       "      <th>3</th>\n",
       "      <td>A</td>\n",
       "      <td>{'depth': 6, 'iterations': 1200, 'learning_rat...</td>\n",
       "      <td>1105.976898</td>\n",
       "      <td>757256.501969</td>\n",
       "    </tr>\n",
       "    <tr>\n",
       "      <th>4</th>\n",
       "      <td>B</td>\n",
       "      <td>{'depth': 6, 'iterations': 800, 'learning_rate...</td>\n",
       "      <td>1566.258891</td>\n",
       "      <td>872237.169360</td>\n",
       "    </tr>\n",
       "    <tr>\n",
       "      <th>5</th>\n",
       "      <td>C</td>\n",
       "      <td>{'depth': 6, 'iterations': 1600, 'learning_rat...</td>\n",
       "      <td>2409.718720</td>\n",
       "      <td>712210.663772</td>\n",
       "    </tr>\n",
       "  </tbody>\n",
       "</table>\n",
       "</div>"
      ],
      "text/plain": [
       "  Dataset                                         Parameters         Time  \\\n",
       "0       A  {'n_estimators': 1000, 'max_depth': 5, 'learni...    17.224097   \n",
       "1       B  {'n_estimators': 1000, 'max_depth': 5, 'learni...     1.900225   \n",
       "2       C  {'n_estimators': 1000, 'max_depth': 5, 'learni...     2.748972   \n",
       "3       A  {'depth': 6, 'iterations': 1200, 'learning_rat...  1105.976898   \n",
       "4       B  {'depth': 6, 'iterations': 800, 'learning_rate...  1566.258891   \n",
       "5       C  {'depth': 6, 'iterations': 1600, 'learning_rat...  2409.718720   \n",
       "\n",
       "             MAE  \n",
       "0  765912.449112  \n",
       "1  864218.134203  \n",
       "2  729447.981933  \n",
       "3  757256.501969  \n",
       "4  872237.169360  \n",
       "5  712210.663772  "
      ]
     },
     "execution_count": 233,
     "metadata": {},
     "output_type": "execute_result"
    }
   ],
   "source": [
    "df_catboost"
   ]
  },
  {
   "cell_type": "markdown",
   "metadata": {
    "id": "x-zfM0Pz0QU_"
   },
   "source": [
    "**Ваши выводы:**\n",
    "\n",
    "Категориальные признаки сильно улучшают модель. Поиск оптимальных параметров немного улучшил результат, кроме результатов на датасете B, но это скорее всего произошло из-за неудачного разбиения"
   ]
  },
  {
   "cell_type": "markdown",
   "metadata": {
    "id": "OnIlsXN40QU_",
    "pycharm": {
     "name": "#%% md\n"
    }
   },
   "source": [
    "И так, мы наконец познакомились со всеми библиотеками градиентного бустинга.\n",
    "\n",
    "## Обобщение результатов\n",
    "\n",
    "На текущем этапе у вас должно быть несколько датафреймов результатами по каждой библиотеке. Мы, конечно, сделали некоторые выводы, но пришло время собрать это в красивый отчет.\n",
    "\n",
    "### Задание 6 (кросс-проверка, 3 балла):\n",
    "**Данные**: датасет с ценами поддержанных автомобилей  \n",
    "**Цели**: В данном задании следует выполнить следующие пункты:  \n",
    "1. При помощи одного или нескольких графиков показать результаты различных библиотек: времени работы и качество результатов. Можете воспользоваться любым типом графиков: гистограммы, scatter и т.д. По этим графикам должно быть понятно какая библиотека и насколько быстрее, насколько различается их качество, сравнение оптимизированных и неоптимизированных параметров.\n",
    "2. По графикам сравните библиотеки, производительность и качество работы. Опишите ваши выводы ниже."
   ]
  },
  {
   "cell_type": "code",
   "execution_count": null,
   "metadata": {
    "id": "Tr4C4PZ10QU_",
    "pycharm": {
     "name": "#%%\n"
    }
   },
   "outputs": [],
   "source": [
    "# Your great pictures and conclusions below!"
   ]
  },
  {
   "cell_type": "code",
   "execution_count": 243,
   "metadata": {},
   "outputs": [],
   "source": [
    "df_skl['name'] = 'skl'\n",
    "df_xgb['name'] = 'xgb'\n",
    "df_lightgbm['name'] = 'lightgbm'\n",
    "df_catboost['name'] = 'catboost'"
   ]
  },
  {
   "cell_type": "code",
   "execution_count": 245,
   "metadata": {},
   "outputs": [],
   "source": [
    "D = pd.concat([df_skl, df_xgb,df_lightgbm,df_catboost])"
   ]
  },
  {
   "cell_type": "code",
   "execution_count": 254,
   "metadata": {},
   "outputs": [
    {
     "data": {
      "text/html": [
       "<div>\n",
       "<style scoped>\n",
       "    .dataframe tbody tr th:only-of-type {\n",
       "        vertical-align: middle;\n",
       "    }\n",
       "\n",
       "    .dataframe tbody tr th {\n",
       "        vertical-align: top;\n",
       "    }\n",
       "\n",
       "    .dataframe thead th {\n",
       "        text-align: right;\n",
       "    }\n",
       "</style>\n",
       "<table border=\"1\" class=\"dataframe\">\n",
       "  <thead>\n",
       "    <tr style=\"text-align: right;\">\n",
       "      <th></th>\n",
       "      <th>Dataset</th>\n",
       "      <th>Parameters</th>\n",
       "      <th>Time</th>\n",
       "      <th>MAE</th>\n",
       "      <th>name</th>\n",
       "    </tr>\n",
       "  </thead>\n",
       "  <tbody>\n",
       "    <tr>\n",
       "      <th>0</th>\n",
       "      <td>B</td>\n",
       "      <td>{'n_estimators': 1000, 'max_depth': 5, 'learni...</td>\n",
       "      <td>7.027443</td>\n",
       "      <td>839582.817396</td>\n",
       "      <td>skl</td>\n",
       "    </tr>\n",
       "    <tr>\n",
       "      <th>1</th>\n",
       "      <td>C</td>\n",
       "      <td>{'n_estimators': 1000, 'max_depth': 5, 'learni...</td>\n",
       "      <td>14.983191</td>\n",
       "      <td>688682.142424</td>\n",
       "      <td>skl</td>\n",
       "    </tr>\n",
       "    <tr>\n",
       "      <th>2</th>\n",
       "      <td>B</td>\n",
       "      <td>{'learning_rate': 0.1, 'max_depth': 5, 'n_esti...</td>\n",
       "      <td>116.155422</td>\n",
       "      <td>841440.667406</td>\n",
       "      <td>skl</td>\n",
       "    </tr>\n",
       "    <tr>\n",
       "      <th>0</th>\n",
       "      <td>B</td>\n",
       "      <td>{'n_estimators': 1000, 'max_depth': 5, 'learni...</td>\n",
       "      <td>3.010482</td>\n",
       "      <td>842479.066826</td>\n",
       "      <td>xgb</td>\n",
       "    </tr>\n",
       "    <tr>\n",
       "      <th>1</th>\n",
       "      <td>C</td>\n",
       "      <td>{'n_estimators': 1000, 'max_depth': 5, 'learni...</td>\n",
       "      <td>5.693505</td>\n",
       "      <td>707739.345767</td>\n",
       "      <td>xgb</td>\n",
       "    </tr>\n",
       "    <tr>\n",
       "      <th>2</th>\n",
       "      <td>B</td>\n",
       "      <td>{'learning_rate': 0.1, 'max_depth': 8, 'n_esti...</td>\n",
       "      <td>122.878056</td>\n",
       "      <td>856591.323375</td>\n",
       "      <td>xgb</td>\n",
       "    </tr>\n",
       "    <tr>\n",
       "      <th>0</th>\n",
       "      <td>A</td>\n",
       "      <td>{'n_estimators': 1000, 'max_depth': 5, 'learni...</td>\n",
       "      <td>0.733097</td>\n",
       "      <td>721922.145976</td>\n",
       "      <td>lightgbm</td>\n",
       "    </tr>\n",
       "    <tr>\n",
       "      <th>1</th>\n",
       "      <td>B</td>\n",
       "      <td>{'n_estimators': 1000, 'max_depth': 5, 'learni...</td>\n",
       "      <td>0.601922</td>\n",
       "      <td>879298.693265</td>\n",
       "      <td>lightgbm</td>\n",
       "    </tr>\n",
       "    <tr>\n",
       "      <th>2</th>\n",
       "      <td>C</td>\n",
       "      <td>{'n_estimators': 1000, 'max_depth': 5, 'learni...</td>\n",
       "      <td>0.876725</td>\n",
       "      <td>738466.194332</td>\n",
       "      <td>lightgbm</td>\n",
       "    </tr>\n",
       "    <tr>\n",
       "      <th>3</th>\n",
       "      <td>A</td>\n",
       "      <td>{'learning_rate': 0.1, 'max_depth': 6, 'n_esti...</td>\n",
       "      <td>145.323477</td>\n",
       "      <td>710289.837678</td>\n",
       "      <td>lightgbm</td>\n",
       "    </tr>\n",
       "    <tr>\n",
       "      <th>4</th>\n",
       "      <td>B</td>\n",
       "      <td>{'learning_rate': 0.1, 'max_depth': 6, 'n_esti...</td>\n",
       "      <td>268.007041</td>\n",
       "      <td>860641.208610</td>\n",
       "      <td>lightgbm</td>\n",
       "    </tr>\n",
       "    <tr>\n",
       "      <th>5</th>\n",
       "      <td>C</td>\n",
       "      <td>{'learning_rate': 0.1, 'max_depth': 6, 'n_esti...</td>\n",
       "      <td>437.973999</td>\n",
       "      <td>733998.194409</td>\n",
       "      <td>lightgbm</td>\n",
       "    </tr>\n",
       "    <tr>\n",
       "      <th>0</th>\n",
       "      <td>A</td>\n",
       "      <td>{'n_estimators': 1000, 'max_depth': 5, 'learni...</td>\n",
       "      <td>17.224097</td>\n",
       "      <td>765912.449112</td>\n",
       "      <td>catboost</td>\n",
       "    </tr>\n",
       "    <tr>\n",
       "      <th>1</th>\n",
       "      <td>B</td>\n",
       "      <td>{'n_estimators': 1000, 'max_depth': 5, 'learni...</td>\n",
       "      <td>1.900225</td>\n",
       "      <td>864218.134203</td>\n",
       "      <td>catboost</td>\n",
       "    </tr>\n",
       "    <tr>\n",
       "      <th>2</th>\n",
       "      <td>C</td>\n",
       "      <td>{'n_estimators': 1000, 'max_depth': 5, 'learni...</td>\n",
       "      <td>2.748972</td>\n",
       "      <td>729447.981933</td>\n",
       "      <td>catboost</td>\n",
       "    </tr>\n",
       "    <tr>\n",
       "      <th>3</th>\n",
       "      <td>A</td>\n",
       "      <td>{'depth': 6, 'iterations': 1200, 'learning_rat...</td>\n",
       "      <td>1105.976898</td>\n",
       "      <td>757256.501969</td>\n",
       "      <td>catboost</td>\n",
       "    </tr>\n",
       "    <tr>\n",
       "      <th>4</th>\n",
       "      <td>B</td>\n",
       "      <td>{'depth': 6, 'iterations': 800, 'learning_rate...</td>\n",
       "      <td>1566.258891</td>\n",
       "      <td>872237.169360</td>\n",
       "      <td>catboost</td>\n",
       "    </tr>\n",
       "    <tr>\n",
       "      <th>5</th>\n",
       "      <td>C</td>\n",
       "      <td>{'depth': 6, 'iterations': 1600, 'learning_rat...</td>\n",
       "      <td>2409.718720</td>\n",
       "      <td>712210.663772</td>\n",
       "      <td>catboost</td>\n",
       "    </tr>\n",
       "  </tbody>\n",
       "</table>\n",
       "</div>"
      ],
      "text/plain": [
       "  Dataset                                         Parameters         Time  \\\n",
       "0       B  {'n_estimators': 1000, 'max_depth': 5, 'learni...     7.027443   \n",
       "1       C  {'n_estimators': 1000, 'max_depth': 5, 'learni...    14.983191   \n",
       "2       B  {'learning_rate': 0.1, 'max_depth': 5, 'n_esti...   116.155422   \n",
       "0       B  {'n_estimators': 1000, 'max_depth': 5, 'learni...     3.010482   \n",
       "1       C  {'n_estimators': 1000, 'max_depth': 5, 'learni...     5.693505   \n",
       "2       B  {'learning_rate': 0.1, 'max_depth': 8, 'n_esti...   122.878056   \n",
       "0       A  {'n_estimators': 1000, 'max_depth': 5, 'learni...     0.733097   \n",
       "1       B  {'n_estimators': 1000, 'max_depth': 5, 'learni...     0.601922   \n",
       "2       C  {'n_estimators': 1000, 'max_depth': 5, 'learni...     0.876725   \n",
       "3       A  {'learning_rate': 0.1, 'max_depth': 6, 'n_esti...   145.323477   \n",
       "4       B  {'learning_rate': 0.1, 'max_depth': 6, 'n_esti...   268.007041   \n",
       "5       C  {'learning_rate': 0.1, 'max_depth': 6, 'n_esti...   437.973999   \n",
       "0       A  {'n_estimators': 1000, 'max_depth': 5, 'learni...    17.224097   \n",
       "1       B  {'n_estimators': 1000, 'max_depth': 5, 'learni...     1.900225   \n",
       "2       C  {'n_estimators': 1000, 'max_depth': 5, 'learni...     2.748972   \n",
       "3       A  {'depth': 6, 'iterations': 1200, 'learning_rat...  1105.976898   \n",
       "4       B  {'depth': 6, 'iterations': 800, 'learning_rate...  1566.258891   \n",
       "5       C  {'depth': 6, 'iterations': 1600, 'learning_rat...  2409.718720   \n",
       "\n",
       "             MAE      name  \n",
       "0  839582.817396       skl  \n",
       "1  688682.142424       skl  \n",
       "2  841440.667406       skl  \n",
       "0  842479.066826       xgb  \n",
       "1  707739.345767       xgb  \n",
       "2  856591.323375       xgb  \n",
       "0  721922.145976  lightgbm  \n",
       "1  879298.693265  lightgbm  \n",
       "2  738466.194332  lightgbm  \n",
       "3  710289.837678  lightgbm  \n",
       "4  860641.208610  lightgbm  \n",
       "5  733998.194409  lightgbm  \n",
       "0  765912.449112  catboost  \n",
       "1  864218.134203  catboost  \n",
       "2  729447.981933  catboost  \n",
       "3  757256.501969  catboost  \n",
       "4  872237.169360  catboost  \n",
       "5  712210.663772  catboost  "
      ]
     },
     "execution_count": 254,
     "metadata": {},
     "output_type": "execute_result"
    }
   ],
   "source": [
    "D"
   ]
  },
  {
   "cell_type": "code",
   "execution_count": 277,
   "metadata": {},
   "outputs": [
    {
     "data": {
      "image/png": "[encoded data removed]",
      "text/plain": [
       "<Figure size 432x288 with 1 Axes>"
      ]
     },
     "metadata": {},
     "output_type": "display_data"
    }
   ],
   "source": [
    "sns.set_theme(style=\"whitegrid\")\n",
    "plt.title('График зависимости MAE')\n",
    "sns.violinplot(data=D, x=\"name\", y=\"MAE\",)\n",
    "sns.despine(left=True)"
   ]
  },
  {
   "cell_type": "code",
   "execution_count": 279,
   "metadata": {},
   "outputs": [
    {
     "data": {
      "image/png": "[encoded data removed]",
      "text/plain": [
       "<Figure size 432x288 with 1 Axes>"
      ]
     },
     "metadata": {},
     "output_type": "display_data"
    }
   ],
   "source": [
    "sns.set_theme(style=\"whitegrid\")\n",
    "plt.title('График зависимости Time')\n",
    "sns.violinplot(data=D, x=\"name\", y=\"Time\",)\n",
    "sns.despine(left=True)"
   ]
  },
  {
   "cell_type": "markdown",
   "metadata": {
    "id": "hLX7f9230QVA",
    "pycharm": {
     "name": "#%% md\n"
    }
   },
   "source": [
    "**Ваши выводы:**\n",
    "Из графика зависимости MAE видно, что лучше всего показала себя skl, и это немного странно\n",
    "Что касается времени, Catboost оказался очень медленным, что тоже странно\n",
    "Скорее всего проблема в параметрах, которые перебирал, т.к. для всех моделей границы перебора примерно одинаковые, что не совсем правильно.\n",
    "\n",
    "Разницу оптимизированных и не оптимизированных не стал выводить, т.к. разницы нет (скорее всего проблема в моей пред обработке :(  ~ отличия порядка 5%, это можно увидеть в таблице D"
   ]
  },
  {
   "cell_type": "markdown",
   "metadata": {
    "id": "FY2sIsC30QVA",
    "pycharm": {
     "name": "#%% md\n"
    }
   },
   "source": [
    "## Оптимизация параметров с hyperopt\n",
    "\n",
    "И так, мы с вами научились пользоваться библиотеками для градиентного бустинга. И я почти уверен, что знаю вашу самую \"любимую\" часть всех этих заданий: оптимизация параметров. Она достаточно долгая, нудная, да еще и над сетками перебора нужно думать. Значит сейчас, когда вы поняли всю тяжесть этого процесса, мы можем узнать как относительно быстро и безболезненно нащупать оптимальные параметры!\n"
   ]
  },
  {
   "cell_type": "markdown",
   "metadata": {
    "id": "6yn-oVDV0QVA",
    "pycharm": {
     "name": "#%% md\n"
    }
   },
   "source": [
    "[Эмоции выполняющего в этот момент.](https://disk.yandex.ru/i/qwkvBEFrWYoV9A)\n"
   ]
  },
  {
   "cell_type": "markdown",
   "metadata": {
    "id": "mg7EfqGm0QVB",
    "pycharm": {
     "name": "#%% md\n"
    }
   },
   "source": [
    "Нашего спасителя зовут HyperOpt. На первый взгляд hyperopt делает всё то же самое, что и grid search, а именно перебирает параметры. По факту же hyperopt превращает это в задачу оптимизации, используя некоторые эвристики для ускорения сходимости процесса. К тому же, он требует лишь информацию о границе интарвалов, а не сами сетки. В теории это должно помочь нам добиться лучших результатов за более короткое время. Давайте попробуем это сделать.\n",
    "\n",
    "Для данного эксперимента я рекомендую использовать lightgbm, поскольку она быстрее и с ней удобнее играться, но Вы можете воспользоваться любой библиотекой из представленных выше.\n",
    "\n",
    "### Задание 7 (кросс-проверка, 4 балла):\n",
    "**Данные**: датасет со стоимостью поддержанных автомобилей\n",
    "**Метрика**: MAE\n",
    "**Цели**: В данном задании следует выполнить следующие пункты:\n",
    "1. Взять любую библиотеку градиентного бустинга (можете взять самую быструю)\n",
    "2. Составить сетку перебора в hyperopt, включающую параметры n_estimators, max_depth и learning_rate в hyperopt. Вам могут понадобиться такие типы данных, как hp.choise, hp.qloguniform, hp.uniform и hp.quniform (можно также пользоваться np.arange). Также для округления значения типа float до целых чисел (4.0 -> 4) используйте `scope.int`.\n",
    "3. Реализуйте функцию, которая принимает на вход словарь параметров для регрессора, и при помощи cv оценивает его качество на датасете A (можно воспользоваться cross_val_score, а для ускорения поставить cv=3). Не забудьте о том, в каком виде lightgbm принимает категориальные признаки в numpy и что также надо передавать индексы категориальных признаков.\n",
    "4. Создайте объект trials=Trials(), который будет хранить информацию о процессе оптимизации.\n",
    "5. Используя функцию fmin, оптимизируйте Вашу функцию. Установите algo=tpe.suggest, trials=trials и max_evals, по крайней мере, 50. verbose=1 позволит видеть прогресс-бар по типу tqdm.\n",
    "6. Выведите получившиеся параметры. Нарисуйте график, показывающий значение loss в ходе оптимизации. Посчитайте качество на тесте при использовании лучших параметров (возвращаются после использования fmin). Сделайте выводы по результату."
   ]
  },
  {
   "cell_type": "code",
   "execution_count": 93,
   "metadata": {
    "id": "oG_4jwtA0QVB",
    "pycharm": {
     "name": "#%%\n"
    }
   },
   "outputs": [
    {
     "name": "stdout",
     "output_type": "stream",
     "text": [
      "100%|█████████████████████████████████████████████████| 50/50 [06:15<00:00,  7.51s/trial, best loss: 835224.1352544669]\n"
     ]
    }
   ],
   "source": [
    "import warnings\n",
    "warnings.filterwarnings(\"ignore\")\n",
    "\n",
    "trials = Trials()\n",
    "\n",
    "def quality(params):\n",
    "    score = cross_val_score(LGBMRegressor(**params), \n",
    "                datasets['A']['X_train'], \n",
    "                datasets['A']['y_train'],\n",
    "                cv=3, \n",
    "                scoring=make_scorer(mean_absolute_error, greater_is_better=False))\n",
    "    return np.absolute(score.mean())\n",
    "\n",
    "grid = {\n",
    "    'n_estimators' : scope.int(hp.uniform(label='n_estimators', low=700, high=4000)),\n",
    "    'max_depth' : scope.int(hp.uniform(label='max_depth', low=3, high=12)),\n",
    "    'learning_rate' : hp.uniform(label='learning_rate', low=0.001, high=0.1)\n",
    "}\n",
    "\n",
    "best = fmin(fn=quality,\n",
    "                space=grid,\n",
    "                algo=tpe.suggest,\n",
    "                max_evals=100,\n",
    "                trials=trials,\n",
    "               verbose= 1)\n",
    "\n",
    "\n",
    "# your super code for super graph"
   ]
  },
  {
   "cell_type": "code",
   "execution_count": 166,
   "metadata": {
    "scrolled": true
   },
   "outputs": [],
   "source": [
    "data = pd.DataFrame( [(i,el['loss']) for i, el in enumerate(trials.results)], columns=['trial', 'loss'])"
   ]
  },
  {
   "cell_type": "code",
   "execution_count": 223,
   "metadata": {},
   "outputs": [
    {
     "data": {
      "text/plain": [
       "<AxesSubplot:xlabel='trial', ylabel='loss'>"
      ]
     },
     "execution_count": 223,
     "metadata": {},
     "output_type": "execute_result"
    },
    {
     "data": {
      "image/png": "[encoded data removed]",
      "text/plain": [
       "<Figure size 432x288 with 1 Axes>"
      ]
     },
     "metadata": {},
     "output_type": "display_data"
    }
   ],
   "source": [
    "sns.set_style(\"darkgrid\", {\"grid.color\": \".6\", \"grid.linestyle\": \":\"})\n",
    "sns.lineplot(data=data,x='trial', y=\"loss\", )\n",
    "sns.scatterplot(data.index[data['loss'] == trials.average_best_error()].tolist(),\n",
    "                trials.average_best_error(),color='red', zorder=15, label='Best res')"
   ]
  },
  {
   "cell_type": "code",
   "execution_count": 225,
   "metadata": {},
   "outputs": [
    {
     "data": {
      "text/plain": [
       "{'learning_rate': 0.07755174678996124,\n",
       " 'max_depth': 4.9695509297693565,\n",
       " 'n_estimators': 3840.415181168806}"
      ]
     },
     "execution_count": 225,
     "metadata": {},
     "output_type": "execute_result"
    }
   ],
   "source": [
    "best"
   ]
  },
  {
   "cell_type": "code",
   "execution_count": 227,
   "metadata": {},
   "outputs": [
    {
     "data": {
      "text/plain": [
       "703878.5231297245"
      ]
     },
     "execution_count": 227,
     "metadata": {},
     "output_type": "execute_result"
    }
   ],
   "source": [
    "model = LGBMRegressor(**{'learning_rate': 0.07755174678996124,\n",
    "                         'max_depth': 5,\n",
    "                         'n_estimators': 3840})\n",
    "mean_absolute_error(model.fit(datasets['A']['X_train'], \n",
    "                              datasets['A']['y_train']).predict(datasets['A']['X_test']), \n",
    "                    datasets['A']['y_test'])"
   ]
  },
  {
   "cell_type": "markdown",
   "metadata": {
    "id": "O6q0R8nW0QVB",
    "pycharm": {
     "name": "#%% md\n"
    }
   },
   "source": [
    "**Ваши выводы:** Результат лучше чем с GridSearchCV. Время обучения тоже меньше.  Очень полезная библиотека "
   ]
  },
  {
   "cell_type": "markdown",
   "metadata": {
    "id": "DLK2ytCV0QVC"
   },
   "source": [
    "\n",
    "## Конец\n",
    "\n",
    "Ну что детишки... Можете добавлять еще 4 библиотеки в своё резюме датасаентиста!\n"
   ]
  }
 ],
 "metadata": {
  "colab": {
   "collapsed_sections": [
    "DLK2ytCV0QVC"
   ],
   "name": "homework.ipynb",
   "provenance": []
  },
  "kernelspec": {
   "display_name": "Python 3",
   "language": "python",
   "name": "python3"
  },
  "language_info": {
   "codemirror_mode": {
    "name": "ipython",
    "version": 3
   },
   "file_extension": ".py",
   "mimetype": "text/x-python",
   "name": "python",
   "nbconvert_exporter": "python",
   "pygments_lexer": "ipython3",
   "version": "3.8.8"
  }
 },
 "nbformat": 4,
 "nbformat_minor": 1
}
