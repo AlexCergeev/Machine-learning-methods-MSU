{
 "cells": [
  {
   "cell_type": "code",
   "execution_count": 1,
   "id": "96fa99c8",
   "metadata": {},
   "outputs": [],
   "source": [
    "import numpy as np\n",
    "import pandas as pd\n",
    "import matplotlib.pyplot as plt\n",
    "import seaborn as sns\n",
    "import warnings\n",
    "warnings.simplefilter(\"ignore\")\n",
    "sns.set(style=\"darkgrid\")\n",
    "%matplotlib inline"
   ]
  },
  {
   "cell_type": "code",
   "execution_count": 3,
   "id": "15712706",
   "metadata": {},
   "outputs": [],
   "source": [
    "class MyOneHotEncoder:\n",
    "    \n",
    "    def __init__(self, dtype=np.float64):\n",
    "        #super(Preprocesser).__init__()\n",
    "        self.dtype = dtype\n",
    "        \n",
    "    def fit(self, X, Y=None):\n",
    "        \"\"\"\n",
    "        param X: training objects, pandas-dataframe, shape [n_objects, n_features]\n",
    "        param Y: unused\n",
    "        \"\"\"\n",
    "        #your code here\n",
    "    \n",
    "    def transform(self, X):\n",
    "        \"\"\"\n",
    "        param X: objects to transform, pandas-dataframe, shape [n_objects, n_features]\n",
    "        returns: transformed objects, numpy-array, shape [n_objects, |f1| + |f2| + ...]\n",
    "        \"\"\"\n",
    "        df = np.array(X).T\n",
    "        flag = True\n",
    "        res = np.array(0)\n",
    "        for col in df:\n",
    "            unique_elements = np.unique(np.array(col))\n",
    "            unique_elements.sort()\n",
    "            array = np.zeros((col.shape[0],len(unique_elements)))    \n",
    "            for i, el in enumerate(col):\n",
    "                array[i][np.where(unique_elements == el)[0][0]] = 1\n",
    "            if flag:\n",
    "                res = array\n",
    "                flag = False\n",
    "            else:\n",
    "                res = np.hstack((res,array))\n",
    "        return res        \n",
    "\n",
    "    def fit_transform(self, X, Y=None):\n",
    "                self.fit(X)\n",
    "                return self.transform(X)\n",
    "\n",
    "    def get_params(self, deep=True):\n",
    "                return {\"dtype\": self.dtype}"
   ]
  },
  {
   "cell_type": "code",
   "execution_count": 5,
   "id": "0fc685e6",
   "metadata": {},
   "outputs": [],
   "source": [
    "class SimpleCounterEncoder:\n",
    "    \n",
    "    def __init__(self, dtype=np.float64):\n",
    "        self.dtype = dtype\n",
    "        \n",
    "    def fit(self, X, Y):\n",
    "        \"\"\"\n",
    "        param X: training objects, pandas-dataframe, shape [n_objects, n_features]\n",
    "        param Y: target for training objects, pandas-series, shape [n_objects,]\n",
    "        \"\"\"\n",
    "        self.X = np.array(X).T\n",
    "        self.Y = np.array(Y).T\n",
    "            \n",
    "    def transform(self, X, a=1e-5, b=1e-5):\n",
    "        \"\"\"\n",
    "        param X: objects to transform, pandas-dataframe, shape [n_objects, n_features]\n",
    "        param a: constant for counters, float\n",
    "        param b: constant for counters, float\n",
    "        returns: transformed objects, numpy-array, shape [n_objects, 3]\n",
    "        \"\"\"\n",
    "        df = np.array(X).T\n",
    "        flag = True\n",
    "        res = np.array(0)\n",
    "        for col in [df]:\n",
    "            array = np.zeros((col.shape[0],3), dtype=self.dtype)    \n",
    "            for i, el in enumerate(col):\n",
    "                array[i][0] = np.sum((col == el)*self.Y) / np.sum(col == el)  # successes\n",
    "                array[i][1] = np.sum(col == el) / col.shape[0]  # counters\n",
    "                array[i][2] =  (array[i][0] + a)/( array[i][1] + b)  # relation\n",
    "            if flag:\n",
    "                res = array\n",
    "                flag = False\n",
    "\n",
    "            else:\n",
    "                res = np.hstack((res,array))\n",
    "        return(res)   \n",
    "    \n",
    "    def fit_transform(self, X, Y, a=1e-5, b=1e-5):\n",
    "        self.fit(X, Y)\n",
    "        return self.transform(X, a, b)\n",
    "    \n",
    "    def get_params(self, deep=True):\n",
    "        return {\"dtype\": self.dtype}"
   ]
  },
  {
   "cell_type": "code",
   "execution_count": null,
   "id": "b962732e",
   "metadata": {},
   "outputs": [],
   "source": [
    "data = {'col_1': [0,1,0,1,0,1,0,1,0,1,0,1], 'col_2':['a','b','c','a','b','c','a','b','c','a','b','c'], 'col_3': [1,2,3,4,1,2,3,4,1,2,3,4]}\n",
    "df_test = pd.DataFrame.from_dict(data)\n",
    "enc = SimpleCounterEncoder()\n",
    "enc.fit(df_test['col_2'], df_test['col_3'])\n",
    "counts = enc.transform(df_test['col_2'], a=1, b=1)\n",
    "ans = np.array([[1, 0.5, 4/3, 1.5, 1/3, 1.875],\\\n",
    "                [1, 0.5, 4/3, 2.5, 1/3, 2.625],\\\n",
    "                [1, 0.5, 4/3, 3.5, 1/3, 3.375],\\\n",
    "                [4, 0.5, 10/3, 1.5, 1/3, 1.875],\\\n",
    "                [4, 0.5, 10/3, 2.5, 1/3, 2.625],\\\n",
    "                [4, 0.5, 10/3, 3.5, 1/3, 3.375]])\n",
    "# assert len(counts.shape) == 2\n",
    "# assert counts.shape[0] == 6\n",
    "# assert counts.shape[1] == 6\n",
    "# assert np.allclose(counts, ans, atol=1e-8)\n",
    "# assert type(counts) == np.ndarray\n"
   ]
  },
  {
   "cell_type": "code",
   "execution_count": null,
   "id": "348275f5",
   "metadata": {},
   "outputs": [],
   "source": [
    "print(counts)"
   ]
  },
  {
   "cell_type": "code",
   "execution_count": null,
   "id": "173e8773",
   "metadata": {},
   "outputs": [],
   "source": [
    "v = np.array([[0,1,0,1,0,1,0,1,0,1,0,1],['a','b','c','a','b','c','a','b','c','a','b','c']]) \n",
    "Y = np.array([1,2,3,4,1,2,3,4,1,2,3,4])\n",
    "flag_g = True\n",
    "answer = np.array(0)\n",
    "a, b = 0, 0\n",
    "for col in v:\n",
    "    flag = True\n",
    "    res = np.array(0)\n",
    "    for i, j in group_k_fold(col.shape[0], n_splits = 2, seed=6):\n",
    "        array = np.zeros((i.shape[0],3))\n",
    "        for i, el in enumerate(col[i]):\n",
    "            array[i][0] = np.sum((col[j] == el)*Y[j])/np.sum(col[j]==el)\n",
    "            array[i][1] = np.sum(col[j] == el)/col[j].shape[0] \n",
    "            array[i][2] = (array[i][0]+a)/(array[i][1]+b)\n",
    "        if flag:\n",
    "            res = array\n",
    "            flag = False\n",
    "        else:\n",
    "            res = np.vstack((res,array))\n",
    "    \n",
    "    if flag_g:\n",
    "        answer = res\n",
    "        flag_g = False\n",
    "    else:\n",
    "        answer = np.hstack((answer,res))\n",
    "print(answer)"
   ]
  },
  {
   "cell_type": "code",
   "execution_count": null,
   "id": "1655368a",
   "metadata": {},
   "outputs": [],
   "source": [
    "v"
   ]
  },
  {
   "cell_type": "code",
   "execution_count": null,
   "id": "b2254cd7",
   "metadata": {},
   "outputs": [],
   "source": [
    "print(*group_k_fold(col.shape[0], n_splits = 2,seed=1))"
   ]
  },
  {
   "cell_type": "code",
   "execution_count": null,
   "id": "1e203636",
   "metadata": {},
   "outputs": [],
   "source": [
    "print(ans[:6])"
   ]
  },
  {
   "cell_type": "code",
   "execution_count": null,
   "id": "cbaae9c3",
   "metadata": {},
   "outputs": [],
   "source": [
    "ans = np.array([[7/3,0.5,14/3,3,1/3,9],\\\n",
    "                    [8/3,0.5,16/3,2,1/3,6],\\\n",
    "                    [5/3,0.5,10/3,2.5,1/3,7.5],\\\n",
    "                    [10/3,0.5,20/3,2,1/3,6],\\\n",
    "                    [5/3,0.5,10/3,3,1/3,9],\\\n",
    "                    [10/3,0.5,20/3,2.5,1/3,7.5],\\\n",
    "                    [7/3,0.5,14/3,3,1/3,9],\\\n",
    "                    [8/3,0.5,16/3,2,1/3,6],\\\n",
    "                    [7/3,0.5,14/3,2.5,1/3,7.5],\\\n",
    "                    [10/3,0.5,20/3,2,1/3,6],\\\n",
    "                    [5/3,0.5,10/3,3,1/3,9],\\\n",
    "                    [8/3,0.5,16/3,2.5,1/3,7.5]])"
   ]
  },
  {
   "cell_type": "code",
   "execution_count": 8,
   "id": "40c590d2",
   "metadata": {},
   "outputs": [],
   "source": [
    "def group_k_fold(size, n_splits=3, seed=1):\n",
    "    idx = np.arange(size)\n",
    "    np.random.seed(seed)\n",
    "    idx = np.random.permutation(idx)\n",
    "    n_ = size // n_splits\n",
    "    for i in range(n_splits - 1):\n",
    "        yield idx[i * n_ : (i + 1) * n_], np.hstack((idx[:i * n_], idx[(i + 1) * n_:]))\n",
    "    yield idx[(n_splits - 1) * n_ :], idx[:(n_splits - 1) * n_]\n",
    "\n",
    "    \n",
    "class FoldCounters:\n",
    "    \n",
    "    def __init__(self, n_folds=3, dtype=np.float64):\n",
    "        self.dtype = dtype\n",
    "        self.n_folds = n_folds\n",
    "        \n",
    "    def fit(self, X, Y, seed=1):\n",
    "        \"\"\"\n",
    "        param X: training objects, pandas-dataframe, shape [n_objects, n_features]\n",
    "        param Y: target for training objects, pandas-series, shape [n_objects,]\n",
    "        param seed: random seed, int\n",
    "        \"\"\"\n",
    "        self.X = np.array(X).T\n",
    "        self.Y = np.array(Y).T\n",
    "        self.seed = seed\n",
    "        self.group_k_fold = list(group_k_fold(X.shape[0], n_splits=self.n_folds, seed = self.seed))\n",
    "            \n",
    "    def transform(self, X, a=1e-5, b=1e-5):\n",
    "        \"\"\"\n",
    "        param X: objects to transform, pandas-dataframe, shape [n_objects, n_features]\n",
    "        param a: constant for counters, float\n",
    "        param b: constant for counters, float\n",
    "        returns: transformed objects, numpy-array, shape [n_objects, 3]\n",
    "        \"\"\"\n",
    "        self.X = np.array(X).T\n",
    "        v = self.X\n",
    "        flag_g = True\n",
    "        answer = np.array(0)\n",
    "        for col in v:\n",
    "            flag = True\n",
    "            res = np.array(0)\n",
    "            for i, j in self.group_k_fold:\n",
    "                array = np.zeros((col.shape[0],3), dtype=self.dtype)\n",
    "                for k, el in zip(i, col[i]):\n",
    "                    array[k][0] = np.sum((col[j] == el)*self.Y[j])/np.sum(col[j]==el)\n",
    "                    array[k][1] = np.sum(col[j] == el)/col[j].shape[0] \n",
    "                    array[k][2] = (array[k][0]+a)/(array[k][1]+b)\n",
    "                if flag:\n",
    "                    res = array\n",
    "                    flag = False\n",
    "                else:\n",
    "                    res = res + array\n",
    "\n",
    "            if flag_g:\n",
    "                answer = res\n",
    "                flag_g = False\n",
    "            else:\n",
    "                answer = np.hstack((answer,res))\n",
    "        return answer\n",
    "        \n",
    "        \n",
    "    def fit_transform(self, X, Y, a=1e-5, b=1e-5):\n",
    "        self.fit(X, Y)\n",
    "        return self.transform(X, a, b)\n",
    "    \n",
    "def logloss(x_onehot,y,w):\n",
    "    summa = 0\n",
    "    for xi, yi in zip(x_onehot,y):    \n",
    "        p = np.sum(xi*w)\n",
    "        f = yi*np.log(p)+(np.array(1)-yi)*np.log(np.array(1)-p)\n",
    "        if np.isnan(f): continue\n",
    "        summa += f\n",
    "    return -summa\n",
    " \n",
    "       \n",
    "def weights(x, y):\n",
    "    \"\"\"\n",
    "    param x: training set of one feature, numpy-array, shape [n_objects,]\n",
    "    param y: target for training objects, numpy-array, shape [n_objects,]\n",
    "    returns: optimal weights, numpy-array, shape [|x unique values|,]\n",
    "    \"\"\"\n",
    "    enc = MyOneHotEncoder(dtype=int)\n",
    "    enc.fit(x)\n",
    "    x_oneht = enc.transform(np.array([[i] for i in x]))\n",
    "    w = np.zeros(x_onehot.shape[1])\n",
    "    for xi, yi in zip(x_onehot,y):\n",
    "        #print(yi/xi[np.where(xi == 1.)])\n",
    "        w[np.where(xi == 1.)] += yi    \n",
    "    return w/np.array([np.sum(i) for i in x_onehot.T])\n",
    "\n",
    "    \n",
    "    "
   ]
  },
  {
   "cell_type": "code",
   "execution_count": 20,
   "id": "c6fd9c26",
   "metadata": {},
   "outputs": [],
   "source": [
    "\n",
    "\n",
    "x = np.array([1, 1, 1, 1, 0, 4, 1, 0, 0, 3, 2, 1, 0, 3, 1, 1, 3, 4, 0, 1, 3, 4, 2, 4, 0, 3, 1, 2, 0, 4])\n",
    "y = np.array([1, 1, 0, 0, 0, 0, 0, 0, 1, 1, 1, 1, 1, 1, 0, 0, 1, 1, 0, 0, 1, 0, 0, 0, 1, 1, 1, 1, 1, 0])\n",
    "anc = np.array([0.5714285714285714, 0.4, 0.6666666666666666, 1.0, 0.2])\n",
    "enc = MyOneHotEncoder(dtype=int)\n",
    "enc.fit(x)\n",
    "x_onehot = enc.transform(np.array([[i] for i in x]))\n",
    "weght = np.array([0.5 for i in range(x_onehot.shape[1])], dtype = np.float64)\n",
    "score_min = logloss(x_onehot,y,weght)\n",
    "step = 0.5\n",
    "k = 0 \n",
    "while k < 25:\n",
    "    for i, w in enumerate(weght):\n",
    "        weght_new = np.array(weght)\n",
    "        #print(weght)\n",
    "        for x in np.linspace(w-step,w+step,100):\n",
    "           # if  x>1: continue\n",
    "            weght_new[i] = x\n",
    "            #print(weght_new)\n",
    "            score = logloss(x_onehot,y,weght_new)\n",
    "            if score < score_min:\n",
    "                #print(score)\n",
    "                weght[i] = x\n",
    "                score_min = score\n",
    "    step /=2\n",
    "    k+=1"
   ]
  },
  {
   "cell_type": "code",
   "execution_count": 21,
   "id": "f0ea80ea",
   "metadata": {},
   "outputs": [
    {
     "name": "stdout",
     "output_type": "stream",
     "text": [
      "[ 0.57142857  0.4         0.66666667  1.         -0.0479798 ]\n",
      "[0.57142857 0.4        0.66666667 1.         0.2       ]\n"
     ]
    }
   ],
   "source": [
    "print(weght)\n",
    "print(anc)"
   ]
  },
  {
   "cell_type": "code",
   "execution_count": 22,
   "id": "cc280f5b",
   "metadata": {},
   "outputs": [
    {
     "data": {
      "text/plain": [
       "13.4200159078803"
      ]
     },
     "execution_count": 22,
     "metadata": {},
     "output_type": "execute_result"
    }
   ],
   "source": [
    "logloss(x_onehot,y,weght)"
   ]
  },
  {
   "cell_type": "code",
   "execution_count": 23,
   "id": "4db75800",
   "metadata": {},
   "outputs": [
    {
     "data": {
      "text/plain": [
       "15.922028025571244"
      ]
     },
     "execution_count": 23,
     "metadata": {},
     "output_type": "execute_result"
    }
   ],
   "source": [
    "logloss(x_onehot,y,anc)"
   ]
  },
  {
   "cell_type": "markdown",
   "id": "545cbb24",
   "metadata": {},
   "source": [
    "Написал функцию и хочу проверить на тестовых данных, что она правильно работает. Передал в функцию данные из теста:"
   ]
  },
  {
   "cell_type": "code",
   "execution_count": null,
   "id": "46865278",
   "metadata": {},
   "outputs": [],
   "source": [
    "logloss(x_onehot,y,np.array([0.5714285714285714, 0.4, 0.6666666666666666, 1.0, 0.2]))"
   ]
  },
  {
   "cell_type": "markdown",
   "id": "95221665",
   "metadata": {},
   "source": [
    "Далее передаю рандомные веса (0,1):"
   ]
  },
  {
   "cell_type": "code",
   "execution_count": 39,
   "id": "7400974e",
   "metadata": {},
   "outputs": [],
   "source": [
    "np.random.seed(1)\n",
    "x = np.array([1, 1, 1, 1, 0, 4, 1, 0, 0, 3, 2, 1, 0, 3, 1, 1, 3, 4, 0, 1, 3, 4, 2, 4, 0, 3, 1, 2, 0, 4])\n",
    "y = np.array([1, 1, 0, 0, 0, 0, 0, 0, 1, 1, 1, 1, 1, 1, 0, 0, 1, 1, 0, 0, 1, 0, 0, 0, 1, 1, 1, 1, 1, 0])\n",
    "w = weights(x, y)\n",
    "ans = [0.5714285714285714, 0.4, 0.6666666666666666, 1.0, 0.2]\n",
    "assert len(w) == 5\n",
    "assert np.allclose(w, ans, atol=1e-8)\n",
    "assert type(w) == np.ndarray"
   ]
  },
  {
   "cell_type": "code",
   "execution_count": 24,
   "id": "11f38330",
   "metadata": {},
   "outputs": [
    {
     "data": {
      "text/plain": [
       "nan"
      ]
     },
     "execution_count": 24,
     "metadata": {},
     "output_type": "execute_result"
    }
   ],
   "source": [
    "np.log(-1)"
   ]
  },
  {
   "cell_type": "code",
   "execution_count": 36,
   "id": "8c027089",
   "metadata": {},
   "outputs": [
    {
     "data": {
      "text/plain": [
       "array([ 7., 10.,  3.,  5.,  5.])"
      ]
     },
     "execution_count": 36,
     "metadata": {},
     "output_type": "execute_result"
    }
   ],
   "source": [
    "np.array([np.sum(i) for i in x_onehot.T])"
   ]
  },
  {
   "cell_type": "code",
   "execution_count": null,
   "id": "29edae44",
   "metadata": {},
   "outputs": [],
   "source": []
  }
 ],
 "metadata": {
  "kernelspec": {
   "display_name": "Python 3",
   "language": "python",
   "name": "python3"
  },
  "language_info": {
   "codemirror_mode": {
    "name": "ipython",
    "version": 3
   },
   "file_extension": ".py",
   "mimetype": "text/x-python",
   "name": "python",
   "nbconvert_exporter": "python",
   "pygments_lexer": "ipython3",
   "version": "3.8.8"
  }
 },
 "nbformat": 4,
 "nbformat_minor": 5
}
